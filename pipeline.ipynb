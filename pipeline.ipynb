{
 "cells": [
  {
   "cell_type": "code",
   "execution_count": 1,
   "id": "43ca0d36-0ae0-49e0-b84d-a5e54a6e6bc4",
   "metadata": {
    "execution": {
     "iopub.execute_input": "2025-09-20T10:19:31.781809Z",
     "iopub.status.busy": "2025-09-20T10:19:31.781510Z",
     "iopub.status.idle": "2025-09-20T10:19:34.503049Z",
     "shell.execute_reply": "2025-09-20T10:19:34.502180Z",
     "shell.execute_reply.started": "2025-09-20T10:19:31.781786Z"
    }
   },
   "outputs": [
    {
     "name": "stdout",
     "output_type": "stream",
     "text": [
      "sagemaker.config INFO - Not applying SDK defaults from location: /etc/xdg/sagemaker/config.yaml\n",
      "sagemaker.config INFO - Not applying SDK defaults from location: /home/sagemaker-user/.config/sagemaker/config.yaml\n"
     ]
    }
   ],
   "source": [
    "import sagemaker\n",
    "from sagemaker.workflow.pipeline import Pipeline\n",
    "from sagemaker.workflow.steps import ProcessingStep, TrainingStep\n",
    "from sagemaker.processing import FrameworkProcessor, ProcessingInput, ProcessingOutput\n",
    "from sagemaker.sklearn.processing import SKLearnProcessor\n",
    "from sagemaker.sklearn.estimator import SKLearn\n",
    "from sagemaker.workflow.properties import PropertyFile\n",
    "from sagemaker.workflow.steps import CacheConfig\n",
    "from sagemaker.tuner import HyperparameterTuner, ContinuousParameter, IntegerParameter\n",
    "from sagemaker.inputs import TrainingInput\n",
    "from sagemaker.inputs import TrainingInput\n",
    "from sagemaker.workflow.steps import TuningStep\n",
    "from sagemaker.xgboost import XGBoost\n",
    "from sagemaker.estimator import InstanceGroup\n",
    "from sagemaker.workflow.functions import Join\n",
    "from sagemaker.workflow.condition_step import ConditionStep\n",
    "from sagemaker.workflow.conditions import ConditionGreaterThan\n",
    "from sagemaker.sklearn.model import SKLearnModel\n",
    "from sagemaker.workflow.model_step import ModelStep\n",
    "from sagemaker.workflow.step_collections import RegisterModel"
   ]
  },
  {
   "cell_type": "code",
   "execution_count": 2,
   "id": "9c5dc8c4-b8af-4278-af1f-424a791ba420",
   "metadata": {
    "execution": {
     "iopub.execute_input": "2025-09-20T10:19:34.504601Z",
     "iopub.status.busy": "2025-09-20T10:19:34.504356Z",
     "iopub.status.idle": "2025-09-20T10:19:35.054340Z",
     "shell.execute_reply": "2025-09-20T10:19:35.053383Z",
     "shell.execute_reply.started": "2025-09-20T10:19:34.504581Z"
    }
   },
   "outputs": [],
   "source": [
    "sagemaker_session = sagemaker.Session()\n",
    "role = sagemaker.get_execution_role()\n",
    "bucket = sagemaker_session.default_bucket()\n",
    "region = sagemaker_session.boto_region_name\n",
    "raw_data_s3_uri = \"s3://sagemakerantdata/smallchurndataset/raw/\""
   ]
  },
  {
   "cell_type": "code",
   "execution_count": 3,
   "id": "7207bdf8-89e1-47b0-af31-4ff0eb68616d",
   "metadata": {
    "execution": {
     "iopub.execute_input": "2025-09-20T10:19:35.055984Z",
     "iopub.status.busy": "2025-09-20T10:19:35.055377Z",
     "iopub.status.idle": "2025-09-20T10:19:35.246102Z",
     "shell.execute_reply": "2025-09-20T10:19:35.245299Z",
     "shell.execute_reply.started": "2025-09-20T10:19:35.055955Z"
    }
   },
   "outputs": [
    {
     "name": "stderr",
     "output_type": "stream",
     "text": [
      "INFO:sagemaker.image_uris:Defaulting to only available Python version: py3\n"
     ]
    }
   ],
   "source": [
    "sklearn_processor = SKLearnProcessor(\n",
    "    framework_version=\"1.2-1\",\n",
    "    role=role,\n",
    "    instance_type=\"ml.t3.medium\",\n",
    "    instance_count=1,\n",
    ")\n"
   ]
  },
  {
   "cell_type": "code",
   "execution_count": null,
   "id": "e14b53a8-22e2-4d79-b3ff-ac87899628ea",
   "metadata": {},
   "outputs": [],
   "source": []
  },
  {
   "cell_type": "code",
   "execution_count": 4,
   "id": "b383ac88-cdaa-4b05-a710-1533788a99fb",
   "metadata": {
    "execution": {
     "iopub.execute_input": "2025-09-20T10:19:35.248187Z",
     "iopub.status.busy": "2025-09-20T10:19:35.247912Z",
     "iopub.status.idle": "2025-09-20T10:19:35.252451Z",
     "shell.execute_reply": "2025-09-20T10:19:35.251701Z",
     "shell.execute_reply.started": "2025-09-20T10:19:35.248165Z"
    }
   },
   "outputs": [],
   "source": [
    "cache_config = CacheConfig(enable_caching=True, expire_after=\"30d\")\n",
    "\n",
    "data_prep = ProcessingStep(\n",
    "    name=\"ChurnDataPrep\",\n",
    "    processor=sklearn_processor,\n",
    "    code=\"scripts/data_ingestion.py\",\n",
    "    inputs=[\n",
    "        ProcessingInput(source=raw_data_s3_uri, destination=\"/opt/ml/processing/input\")\n",
    "    ],\n",
    "    outputs=[\n",
    "        ProcessingOutput(\n",
    "            output_name=\"train\",\n",
    "            source=\"/opt/ml/processing/output/train\",\n",
    "            destination=\"s3://sagemakerantdata/smallchurndataset/processed/train\"\n",
    "        ),\n",
    "        ProcessingOutput(\n",
    "            output_name=\"test\",\n",
    "            source=\"/opt/ml/processing/output/test\",\n",
    "            destination=\"s3://sagemakerantdata/smallchurndataset/processed/test\"\n",
    "        ),\n",
    "    ],\n",
    ")"
   ]
  },
  {
   "cell_type": "code",
   "execution_count": 5,
   "id": "f1d91e67-0319-4873-8b93-3b17734de230",
   "metadata": {
    "execution": {
     "iopub.execute_input": "2025-09-20T10:19:35.253747Z",
     "iopub.status.busy": "2025-09-20T10:19:35.253238Z",
     "iopub.status.idle": "2025-09-20T10:19:35.258197Z",
     "shell.execute_reply": "2025-09-20T10:19:35.257586Z",
     "shell.execute_reply.started": "2025-09-20T10:19:35.253717Z"
    }
   },
   "outputs": [],
   "source": [
    "# pipeline = Pipeline(\n",
    "#     name=\"ChurnPredictionPipeline\",\n",
    "#     parameters=[], # You can define pipeline-level parameters here\n",
    "#     steps=[data_prep],\n",
    "#     sagemaker_session=sagemaker_session,\n",
    "# # )\n"
   ]
  },
  {
   "cell_type": "code",
   "execution_count": 6,
   "id": "a96713fa-6d6c-455d-a8ae-954fd5bb845f",
   "metadata": {
    "execution": {
     "iopub.execute_input": "2025-09-20T10:19:35.259570Z",
     "iopub.status.busy": "2025-09-20T10:19:35.259009Z",
     "iopub.status.idle": "2025-09-20T10:19:35.857045Z",
     "shell.execute_reply": "2025-09-20T10:19:35.856271Z",
     "shell.execute_reply.started": "2025-09-20T10:19:35.259461Z"
    },
    "scrolled": true
   },
   "outputs": [],
   "source": [
    "# In your pipeline.ipynb file, after the data_prep step definition\n",
    "\n",
    "from sagemaker.sklearn.estimator import SKLearn\n",
    "from sagemaker.xgboost.estimator import XGBoost\n",
    "from sagemaker.tuner import HyperparameterTuner, IntegerParameter, ContinuousParameter\n",
    "from sagemaker.workflow.steps import TuningStep\n",
    "from sagemaker.inputs import TrainingInput\n",
    "\n",
    "# --- Random Forest HPO ---\n",
    "# Use the SKLearn estimator for scikit-learn models\n",
    "output_bucket = \"sagemakerantdata\"\n",
    "output_prefix = \"smallchurndataset/artifacts\"\n",
    "output_path = f\"s3://{output_bucket}/{output_prefix}\"\n",
    "\n",
    "sklearn_estimator_rf = SKLearn(\n",
    "    entry_point=\"scripts/train.py\",\n",
    "    framework_version=\"1.2-1\",\n",
    "    instance_type=\"ml.m5.large\",\n",
    "    instance_count=1,  # <--- ADD THIS LINE\n",
    "    role=role,\n",
    "    hyperparameters={\"model_type\": \"randomforest\"},\n",
    "    output_path=output_path\n",
    ")\n",
    "\n",
    "tuner_rf = HyperparameterTuner(\n",
    "    estimator=sklearn_estimator_rf,\n",
    "    objective_metric_name=\"Validation F1 Score\",\n",
    "    hyperparameter_ranges={\n",
    "        \"n_estimators\": IntegerParameter(100, 300),\n",
    "        \"max_depth\": IntegerParameter(5, 20),\n",
    "    },\n",
    "    metric_definitions=[\n",
    "        {\"Name\": \"Validation F1 Score\", \"Regex\": \"Validation F1 Score: ([0-9\\\\.]+)\"}\n",
    "    ],\n",
    "    max_jobs=6,\n",
    "    max_parallel_jobs=2,\n",
    "    objective_type=\"Maximize\",\n",
    ")\n",
    "\n",
    "tune_step_rf = TuningStep(\n",
    "    name=\"TuneRandomForest\",\n",
    "    tuner=tuner_rf,\n",
    "    inputs={\n",
    "        \"train\": TrainingInput(\n",
    "            s3_data=data_prep.properties.ProcessingOutputConfig.Outputs[\"train\"].S3Output.S3Uri\n",
    "        ),\n",
    "        \"test\": TrainingInput(\n",
    "            s3_data=data_prep.properties.ProcessingOutputConfig.Outputs[\"test\"].S3Output.S3Uri\n",
    "        ),\n",
    "    },\n",
    "    cache_config=cache_config\n",
    ")\n",
    "\n",
    "### Logistic Regression\n",
    "logistic_estimator = SKLearn(\n",
    "    entry_point=\"scripts/train.py\",\n",
    "    framework_version=\"1.2-1\",\n",
    "    instance_type=\"ml.m5.large\",\n",
    "    instance_count=1,\n",
    "    role=role,\n",
    "    hyperparameters={\"model_type\": \"logistic\"},\n",
    "    output_path=output_path\n",
    ")\n",
    "\n",
    "tuner_logistic = HyperparameterTuner(\n",
    "    estimator=logistic_estimator,\n",
    "    objective_metric_name=\"Validation F1 Score\",\n",
    "    hyperparameter_ranges={\n",
    "        \"C\": ContinuousParameter(0.001, 10.0),\n",
    "        # penalty can only take [\"l1\", \"l2\"], so not tunable like numeric params\n",
    "    },\n",
    "    metric_definitions=[\n",
    "        {\"Name\": \"Validation F1 Score\", \"Regex\": \"Validation F1 Score: ([0-9\\\\.]+)\"}\n",
    "    ],\n",
    "    max_jobs=4,\n",
    "    max_parallel_jobs=2,\n",
    "    objective_type=\"Maximize\",\n",
    ")\n",
    "\n",
    "tune_step_logistic = TuningStep(\n",
    "    name=\"TuneLogisticRegression\",\n",
    "    tuner=tuner_logistic,\n",
    "    inputs={\n",
    "        \"train\": TrainingInput(\n",
    "            s3_data=data_prep.properties.ProcessingOutputConfig.Outputs[\"train\"].S3Output.S3Uri\n",
    "        ),\n",
    "        \"test\": TrainingInput(\n",
    "            s3_data=data_prep.properties.ProcessingOutputConfig.Outputs[\"test\"].S3Output.S3Uri\n",
    "        ),\n",
    "    },\n",
    "    cache_config=cache_config\n",
    ")\n"
   ]
  },
  {
   "cell_type": "code",
   "execution_count": 7,
   "id": "be8b4d7a-b0b6-470b-8ee1-f9af39fe0da6",
   "metadata": {
    "execution": {
     "iopub.execute_input": "2025-09-20T10:19:35.858121Z",
     "iopub.status.busy": "2025-09-20T10:19:35.857764Z",
     "iopub.status.idle": "2025-09-20T10:19:35.861864Z",
     "shell.execute_reply": "2025-09-20T10:19:35.861045Z",
     "shell.execute_reply.started": "2025-09-20T10:19:35.858093Z"
    }
   },
   "outputs": [],
   "source": [
    "\n",
    "# Best F1 from RandomForest\n",
    "best_rf_f1 = tune_step_rf.properties.BestTrainingJob.FinalHyperParameterTuningJobObjectiveMetric.Value\n",
    "\n",
    "# Best F1 from Logistic Regression\n",
    "best_logistic_f1 = tune_step_logistic.properties.BestTrainingJob.FinalHyperParameterTuningJobObjectiveMetric.Value\n"
   ]
  },
  {
   "cell_type": "code",
   "execution_count": null,
   "id": "bf03c3ff-86da-41f1-b9ce-522e19ebaea8",
   "metadata": {},
   "outputs": [],
   "source": []
  },
  {
   "cell_type": "code",
   "execution_count": 11,
   "id": "635a3211-efec-4906-8f2b-a6aee54c3a59",
   "metadata": {
    "execution": {
     "iopub.execute_input": "2025-09-20T10:56:06.193091Z",
     "iopub.status.busy": "2025-09-20T10:56:06.192675Z",
     "iopub.status.idle": "2025-09-20T10:56:06.864169Z",
     "shell.execute_reply": "2025-09-20T10:56:06.863186Z",
     "shell.execute_reply.started": "2025-09-20T10:56:06.193058Z"
    },
    "scrolled": true
   },
   "outputs": [
    {
     "name": "stderr",
     "output_type": "stream",
     "text": [
      "/opt/conda/lib/python3.12/site-packages/sagemaker/workflow/pipeline_context.py:332: UserWarning: Running within a PipelineSession, there will be No Wait, No Logs, and No Job being started.\n",
      "  warnings.warn(\n"
     ]
    }
   ],
   "source": [
    "\n",
    "from sagemaker.workflow.pipeline_context import PipelineSession\n",
    "from sagemaker.workflow.model_step import ModelStep\n",
    "from sagemaker.sklearn import SKLearnModel\n",
    "\n",
    "\n",
    "pipeline_session = PipelineSession()\n",
    "\n",
    "rf_model = SKLearnModel(\n",
    "    model_data=tune_step_rf.get_top_model_s3_uri(top_k=1, s3_bucket=s3_bucket),\n",
    "    role=role,\n",
    "    entry_point=\"scripts/train.py\",            # keep or remove (see Fix B)\n",
    "    framework_version=\"1.2-1\",\n",
    "    sagemaker_session=pipeline_session,\n",
    ")\n",
    "\n",
    "rf_register_args = rf_model.register(\n",
    "    content_types=[\"text/csv\"],\n",
    "    response_types=[\"text/csv\"],\n",
    "    inference_instances=[\"ml.m5.large\"],\n",
    "    transform_instances=[\"ml.m5.large\"],\n",
    "    model_package_group_name=\"ChurnPredictionModelGroup\",\n",
    ")\n",
    "\n",
    "step_register_rf_model = ModelStep(\n",
    "    name=f\"RegisterRFModelConditional-{unique_id}\",\n",
    "    step_args=rf_register_args,\n",
    ")\n",
    "\n",
    "# Same for logistic:\n",
    "log_model = SKLearnModel(\n",
    "    model_data=tune_step_logistic.get_top_model_s3_uri(top_k=1, s3_bucket=s3_bucket),\n",
    "    role=role,\n",
    "    entry_point=\"scripts/train.py\",\n",
    "    framework_version=\"1.2-1\",\n",
    "    sagemaker_session=pipeline_session,\n",
    ")\n",
    "\n",
    "log_register_args = log_model.register(\n",
    "    content_types=[\"text/csv\"],\n",
    "    response_types=[\"text/csv\"],\n",
    "    inference_instances=[\"ml.m5.large\"],\n",
    "    transform_instances=[\"ml.m5.large\"],\n",
    "    model_package_group_name=\"ChurnPredictionModelGroup\",\n",
    ")\n",
    "\n",
    "step_register_logistic_model = ModelStep(\n",
    "    name=f\"RegisterLogisticModelConditional-{unique_id}\",\n",
    "    step_args=log_register_args,\n",
    ")\n",
    "# Conditional step to choose and register the best model\n",
    "choose_best_model_step = ConditionStep(\n",
    "    name=\"ChooseAndRegisterBestModelStep\",  # Made name more explicit\n",
    "    conditions=[ConditionGreaterThan(left=best_rf_f1, right=best_logistic_f1)],\n",
    "    if_steps=[step_register_rf_model],\n",
    "    else_steps=[step_register_logistic_model],\n",
    ")\n",
    "\n",
    "\n",
    "# Create the pipeline - ONLY include steps that are not part of the ConditionStep"
   ]
  },
  {
   "cell_type": "code",
   "execution_count": null,
   "id": "3f916245-562c-4456-a768-8b8be31f3b00",
   "metadata": {},
   "outputs": [],
   "source": []
  },
  {
   "cell_type": "code",
   "execution_count": 14,
   "id": "2b5f25be-6cab-41df-9d25-a619bd15bba9",
   "metadata": {
    "execution": {
     "iopub.execute_input": "2025-09-20T10:56:42.299310Z",
     "iopub.status.busy": "2025-09-20T10:56:42.299021Z",
     "iopub.status.idle": "2025-09-20T10:56:43.636370Z",
     "shell.execute_reply": "2025-09-20T10:56:43.635660Z",
     "shell.execute_reply.started": "2025-09-20T10:56:42.299286Z"
    }
   },
   "outputs": [
    {
     "name": "stderr",
     "output_type": "stream",
     "text": [
      "WARNING:sagemaker.workflow.utilities:Popping out 'ProcessingJobName' from the pipeline definition by default since it will be overridden at pipeline execution time. Please utilize the PipelineDefinitionConfig to persist this field in the pipeline definition if desired.\n",
      "WARNING:sagemaker.estimator:No finished training job found associated with this estimator. Please make sure this estimator is only used for building workflow config\n",
      "WARNING:sagemaker.estimator:No finished training job found associated with this estimator. Please make sure this estimator is only used for building workflow config\n",
      "WARNING:sagemaker.workflow.utilities:Popping out 'HyperParameterTuningJobName' from the pipeline definition by default since it will be overridden at pipeline execution time. Please utilize the PipelineDefinitionConfig to persist this field in the pipeline definition if desired.\n",
      "WARNING:sagemaker.estimator:No finished training job found associated with this estimator. Please make sure this estimator is only used for building workflow config\n",
      "WARNING:sagemaker.estimator:No finished training job found associated with this estimator. Please make sure this estimator is only used for building workflow config\n",
      "WARNING:sagemaker.workflow.utilities:Popping out 'HyperParameterTuningJobName' from the pipeline definition by default since it will be overridden at pipeline execution time. Please utilize the PipelineDefinitionConfig to persist this field in the pipeline definition if desired.\n",
      "WARNING:sagemaker.workflow.utilities:Popping out 'ModelPackageName' from the pipeline definition by default since it will be overridden at pipeline execution time. Please utilize the PipelineDefinitionConfig to persist this field in the pipeline definition if desired.\n",
      "WARNING:sagemaker.workflow.utilities:Popping out 'ModelPackageName' from the pipeline definition by default since it will be overridden at pipeline execution time. Please utilize the PipelineDefinitionConfig to persist this field in the pipeline definition if desired.\n",
      "WARNING:sagemaker.workflow.utilities:Popping out 'ProcessingJobName' from the pipeline definition by default since it will be overridden at pipeline execution time. Please utilize the PipelineDefinitionConfig to persist this field in the pipeline definition if desired.\n",
      "WARNING:sagemaker.estimator:No finished training job found associated with this estimator. Please make sure this estimator is only used for building workflow config\n",
      "WARNING:sagemaker.estimator:No finished training job found associated with this estimator. Please make sure this estimator is only used for building workflow config\n",
      "WARNING:sagemaker.workflow.utilities:Popping out 'HyperParameterTuningJobName' from the pipeline definition by default since it will be overridden at pipeline execution time. Please utilize the PipelineDefinitionConfig to persist this field in the pipeline definition if desired.\n",
      "WARNING:sagemaker.estimator:No finished training job found associated with this estimator. Please make sure this estimator is only used for building workflow config\n",
      "WARNING:sagemaker.estimator:No finished training job found associated with this estimator. Please make sure this estimator is only used for building workflow config\n",
      "WARNING:sagemaker.workflow.utilities:Popping out 'HyperParameterTuningJobName' from the pipeline definition by default since it will be overridden at pipeline execution time. Please utilize the PipelineDefinitionConfig to persist this field in the pipeline definition if desired.\n",
      "WARNING:sagemaker.workflow.utilities:Popping out 'ModelPackageName' from the pipeline definition by default since it will be overridden at pipeline execution time. Please utilize the PipelineDefinitionConfig to persist this field in the pipeline definition if desired.\n",
      "WARNING:sagemaker.workflow.utilities:Popping out 'ModelPackageName' from the pipeline definition by default since it will be overridden at pipeline execution time. Please utilize the PipelineDefinitionConfig to persist this field in the pipeline definition if desired.\n"
     ]
    },
    {
     "data": {
      "text/plain": [
       "{'PipelineArn': 'arn:aws:sagemaker:ap-south-1:891377324517:pipeline/ChurnPredictionPipelineV2',\n",
       " 'PipelineExecutionArn': 'arn:aws:sagemaker:ap-south-1:891377324517:pipeline/ChurnPredictionPipelineV2/execution/6e9yew8fawms',\n",
       " 'PipelineExecutionDisplayName': 'execution-1758365803524',\n",
       " 'PipelineExecutionStatus': 'Executing',\n",
       " 'CreationTime': datetime.datetime(2025, 9, 20, 10, 56, 43, 445000, tzinfo=tzlocal()),\n",
       " 'LastModifiedTime': datetime.datetime(2025, 9, 20, 10, 56, 43, 445000, tzinfo=tzlocal()),\n",
       " 'CreatedBy': {'UserProfileArn': 'arn:aws:sagemaker:ap-south-1:891377324517:user-profile/d-51dx373wnss0/default-20250903T125584',\n",
       "  'UserProfileName': 'default-20250903T125584',\n",
       "  'DomainId': 'd-51dx373wnss0',\n",
       "  'IamIdentity': {'Arn': 'arn:aws:sts::891377324517:assumed-role/AmazonSageMaker-ExecutionRole-20250903T125584/SageMaker',\n",
       "   'PrincipalId': 'AROA47CR2SHSWJ6BV5G2F:SageMaker'}},\n",
       " 'LastModifiedBy': {'UserProfileArn': 'arn:aws:sagemaker:ap-south-1:891377324517:user-profile/d-51dx373wnss0/default-20250903T125584',\n",
       "  'UserProfileName': 'default-20250903T125584',\n",
       "  'DomainId': 'd-51dx373wnss0',\n",
       "  'IamIdentity': {'Arn': 'arn:aws:sts::891377324517:assumed-role/AmazonSageMaker-ExecutionRole-20250903T125584/SageMaker',\n",
       "   'PrincipalId': 'AROA47CR2SHSWJ6BV5G2F:SageMaker'}},\n",
       " 'ResponseMetadata': {'RequestId': 'b31a099d-3e7b-4583-9f88-9137b603c319',\n",
       "  'HTTPStatusCode': 200,\n",
       "  'HTTPHeaders': {'x-amzn-requestid': 'b31a099d-3e7b-4583-9f88-9137b603c319',\n",
       "   'strict-transport-security': 'max-age=47304000; includeSubDomains',\n",
       "   'x-frame-options': 'DENY',\n",
       "   'content-security-policy': \"frame-ancestors 'none'\",\n",
       "   'cache-control': 'no-cache, no-store, must-revalidate',\n",
       "   'x-content-type-options': 'nosniff',\n",
       "   'content-type': 'application/x-amz-json-1.1',\n",
       "   'content-length': '1141',\n",
       "   'date': 'Sat, 20 Sep 2025 10:56:43 GMT'},\n",
       "  'RetryAttempts': 0}}"
      ]
     },
     "execution_count": 14,
     "metadata": {},
     "output_type": "execute_result"
    }
   ],
   "source": [
    "# Submit the pipeline definition to SageMaker\n",
    "pipeline = Pipeline(\n",
    "    name=\"ChurnPredictionPipelineV2\",\n",
    "    steps=[\n",
    "        data_prep,           # Data preparation step\n",
    "        tune_step_rf,        # RF hyperparameter tuning\n",
    "        tune_step_logistic,  # Logistic hyperparameter tuning\n",
    "        choose_best_model_step  # Conditional step (contains the RegisterModel steps)\n",
    "    ],\n",
    "    sagemaker_session=sagemaker_session,\n",
    ")\n",
    "\n",
    "pipeline.upsert(role_arn=role)\n",
    "\n",
    "# Start a pipeline execution\n",
    "\n",
    "execution = pipeline.start()\n",
    "execution.describe()"
   ]
  },
  {
   "cell_type": "code",
   "execution_count": 21,
   "id": "87bd6f76-8f4b-4661-ac6b-fa5e0b70a8d7",
   "metadata": {
    "execution": {
     "iopub.execute_input": "2025-09-20T12:01:58.550063Z",
     "iopub.status.busy": "2025-09-20T12:01:58.549744Z",
     "iopub.status.idle": "2025-09-20T12:01:58.734988Z",
     "shell.execute_reply": "2025-09-20T12:01:58.734092Z",
     "shell.execute_reply.started": "2025-09-20T12:01:58.550011Z"
    }
   },
   "outputs": [
    {
     "name": "stdout",
     "output_type": "stream",
     "text": [
      "RegisterLogisticModelConditional-8ec37c35-RegisterModel → Succeeded\n",
      "ChooseAndRegisterBestModelStep → Succeeded\n",
      "TuneLogisticRegression → Succeeded\n",
      "TuneRandomForest → Succeeded\n",
      "ChurnDataPrep → Succeeded\n"
     ]
    }
   ],
   "source": [
    "steps = execution.list_steps()\n",
    "for step in steps:\n",
    "    print(f\"{step['StepName']} → {step['StepStatus']}\")\n",
    "    if 'FailureReason' in step:\n",
    "        print(f\"   Reason: {step ['FailureReason']}\")\n"
   ]
  },
  {
   "cell_type": "code",
   "execution_count": null,
   "id": "eea6eaf7-430b-4b1e-a67f-ae6819d3c257",
   "metadata": {
    "execution": {
     "iopub.status.busy": "2025-09-19T19:05:02.431679Z",
     "iopub.status.idle": "2025-09-19T19:05:02.432174Z",
     "shell.execute_reply": "2025-09-19T19:05:02.432005Z",
     "shell.execute_reply.started": "2025-09-19T19:05:02.431987Z"
    }
   },
   "outputs": [],
   "source": []
  },
  {
   "cell_type": "code",
   "execution_count": null,
   "id": "4d22872c-f3d6-49bb-91a7-b6d96873d7c7",
   "metadata": {},
   "outputs": [],
   "source": []
  },
  {
   "cell_type": "code",
   "execution_count": null,
   "id": "aedc513f-7411-4281-9ed5-b8e4533949cb",
   "metadata": {},
   "outputs": [],
   "source": []
  }
 ],
 "metadata": {
  "kernelspec": {
   "display_name": "Python 3 (ipykernel)",
   "language": "python",
   "name": "python3"
  },
  "language_info": {
   "codemirror_mode": {
    "name": "ipython",
    "version": 3
   },
   "file_extension": ".py",
   "mimetype": "text/x-python",
   "name": "python",
   "nbconvert_exporter": "python",
   "pygments_lexer": "ipython3",
   "version": "3.12.9"
  }
 },
 "nbformat": 4,
 "nbformat_minor": 5
}
