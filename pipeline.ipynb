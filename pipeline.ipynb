{
 "cells": [
  {
   "cell_type": "code",
   "execution_count": 1,
   "id": "43ca0d36-0ae0-49e0-b84d-a5e54a6e6bc4",
   "metadata": {
    "execution": {
     "iopub.execute_input": "2025-09-22T09:39:03.933629Z",
     "iopub.status.busy": "2025-09-22T09:39:03.933324Z",
     "iopub.status.idle": "2025-09-22T09:39:06.722722Z",
     "shell.execute_reply": "2025-09-22T09:39:06.721950Z",
     "shell.execute_reply.started": "2025-09-22T09:39:03.933603Z"
    }
   },
   "outputs": [
    {
     "name": "stdout",
     "output_type": "stream",
     "text": [
      "sagemaker.config INFO - Not applying SDK defaults from location: /etc/xdg/sagemaker/config.yaml\n",
      "sagemaker.config INFO - Not applying SDK defaults from location: /home/sagemaker-user/.config/sagemaker/config.yaml\n"
     ]
    }
   ],
   "source": [
    "import sagemaker\n",
    "from sagemaker.workflow.pipeline import Pipeline\n",
    "from sagemaker.workflow.steps import ProcessingStep, TrainingStep\n",
    "from sagemaker.processing import FrameworkProcessor, ProcessingInput, ProcessingOutput\n",
    "from sagemaker.sklearn.processing import SKLearnProcessor\n",
    "from sagemaker.sklearn.estimator import SKLearn\n",
    "from sagemaker.workflow.properties import PropertyFile\n",
    "from sagemaker.workflow.steps import CacheConfig\n",
    "from sagemaker.tuner import HyperparameterTuner, ContinuousParameter, IntegerParameter\n",
    "from sagemaker.inputs import TrainingInput\n",
    "from sagemaker.inputs import TrainingInput\n",
    "from sagemaker.workflow.steps import TuningStep\n",
    "from sagemaker.xgboost import XGBoost\n",
    "from sagemaker.estimator import InstanceGroup\n",
    "from sagemaker.workflow.functions import Join\n",
    "from sagemaker.workflow.condition_step import ConditionStep\n",
    "from sagemaker.workflow.conditions import ConditionGreaterThan\n",
    "from sagemaker.sklearn.model import SKLearnModel\n",
    "from sagemaker.workflow.model_step import ModelStep\n",
    "from sagemaker.workflow.step_collections import RegisterModel\n",
    "from sagemaker.workflow.pipeline_context import PipelineSession\n",
    "from sagemaker.sklearn import SKLearnModel\n",
    "from sagemaker import ModelPackage"
   ]
  },
  {
   "cell_type": "code",
   "execution_count": 6,
   "id": "98f375f2-a91b-4ad4-8621-b27552e2d4fc",
   "metadata": {
    "execution": {
     "iopub.execute_input": "2025-09-22T09:42:56.860209Z",
     "iopub.status.busy": "2025-09-22T09:42:56.859927Z",
     "iopub.status.idle": "2025-09-22T09:42:56.880050Z",
     "shell.execute_reply": "2025-09-22T09:42:56.879066Z",
     "shell.execute_reply.started": "2025-09-22T09:42:56.860185Z"
    }
   },
   "outputs": [],
   "source": [
    "class ChurnPredictionPipeline:\n",
    "    def __init__(self, raw_data_s3_uri, output_bucket, output_prefix,\n",
    "                 artifacts_path):\n",
    "        self.execution = None\n",
    "        self.sagemaker_session = sagemaker.Session()\n",
    "        self.role = sagemaker.get_execution_role()\n",
    "        self.bucket = self.sagemaker_session.default_bucket()\n",
    "        self.region = self.sagemaker_session.boto_region_name\n",
    "        self.raw_data_s3_uri = raw_data_s3_uri\n",
    "        self.output_bucket = output_bucket\n",
    "        self.output_prefix = output_prefix\n",
    "        self.artifacts_path = artifacts_path\n",
    "        self.pipeline_session = PipelineSession()\n",
    "        self.cache_config = CacheConfig(enable_caching=True, expire_after=\"30d\")\n",
    "\n",
    "    def create_data_prep_stage(self):\n",
    "        sklearn_processor = SKLearnProcessor(\n",
    "            framework_version=\"1.2-1\",\n",
    "            role=self.role,\n",
    "            instance_type=\"ml.t3.medium\",\n",
    "            instance_count=1,\n",
    "        )\n",
    "        data_prep = ProcessingStep(\n",
    "            name=\"ChurnDataPrep\",\n",
    "            processor=sklearn_processor,\n",
    "            code=\"scripts/data_ingestion.py\",\n",
    "            inputs=[\n",
    "                ProcessingInput(source=self.raw_data_s3_uri, destination=\"/opt/ml/processing/input\")\n",
    "            ],\n",
    "            outputs=[\n",
    "                ProcessingOutput(\n",
    "                    output_name=\"train\",\n",
    "                    source=\"/opt/ml/processing/output/train\",\n",
    "                    destination=\"s3://sagemakerantdata/smallchurndataset/processed/train\"\n",
    "                ),\n",
    "                ProcessingOutput(\n",
    "                    output_name=\"test\",\n",
    "                    source=\"/opt/ml/processing/output/test\",\n",
    "                    destination=\"s3://sagemakerantdata/smallchurndataset/processed/test\"\n",
    "                ),\n",
    "            ],\n",
    "        )\n",
    "        return data_prep\n",
    "\n",
    "    def model_traing_and_tuning(self, data_prep):\n",
    "        output_bucket = self.output_bucket\n",
    "        output_prefix = self.output_prefix\n",
    "        output_path = f\"s3://{output_bucket}/{output_prefix}\"\n",
    "\n",
    "        sklearn_estimator_rf = SKLearn(\n",
    "                entry_point=\"scripts/train.py\",\n",
    "                framework_version=\"1.2-1\",\n",
    "                instance_type=\"ml.m5.large\",\n",
    "                instance_count=1,\n",
    "                role=self.role,\n",
    "                hyperparameters={\"model_type\": \"randomforest\"},\n",
    "                output_path=output_path\n",
    "            )\n",
    "        tuner_rf = HyperparameterTuner(\n",
    "            estimator=sklearn_estimator_rf,\n",
    "            objective_metric_name=\"Validation F1 Score\",\n",
    "            hyperparameter_ranges={\n",
    "                \"n_estimators\": IntegerParameter(100, 300),\n",
    "                \"max_depth\": IntegerParameter(5, 20),\n",
    "            },\n",
    "            metric_definitions=[\n",
    "                {\"Name\": \"Validation F1 Score\", \"Regex\": \"Validation F1 Score: ([0-9\\\\.]+)\"}\n",
    "            ],\n",
    "            max_jobs=6,\n",
    "            max_parallel_jobs=2,\n",
    "            objective_type=\"Maximize\",\n",
    "        )\n",
    "        tune_step_rf = TuningStep(\n",
    "            name=\"TuneRandomForest\",\n",
    "            tuner=tuner_rf,\n",
    "            inputs={\n",
    "                \"train\": TrainingInput(\n",
    "                    s3_data=data_prep.properties.ProcessingOutputConfig.Outputs[\"train\"].S3Output.S3Uri\n",
    "                ),\n",
    "                \"test\": TrainingInput(\n",
    "                    s3_data=data_prep.properties.ProcessingOutputConfig.Outputs[\"test\"].S3Output.S3Uri\n",
    "                ),\n",
    "            },\n",
    "            cache_config=self.cache_config\n",
    "        )\n",
    "        # Logistic Regression\n",
    "        logistic_estimator = SKLearn(\n",
    "            entry_point=\"scripts/train.py\",\n",
    "            framework_version=\"1.2-1\",\n",
    "            instance_type=\"ml.m5.large\",\n",
    "            instance_count=1,\n",
    "            role=self.role,\n",
    "            hyperparameters={\"model_type\": \"logistic\"},\n",
    "            output_path=output_path\n",
    "        )\n",
    "        tuner_logistic = HyperparameterTuner(\n",
    "            estimator=logistic_estimator,\n",
    "            objective_metric_name=\"Validation F1 Score\",\n",
    "            hyperparameter_ranges={\n",
    "                \"C\": ContinuousParameter(0.001, 10.0),\n",
    "                # penalty can only take [\"l1\", \"l2\"], so not tunable like numeric params\n",
    "            },\n",
    "            metric_definitions=[\n",
    "                {\"Name\": \"Validation F1 Score\", \"Regex\": \"Validation F1 Score: ([0-9\\\\.]+)\"}\n",
    "            ],\n",
    "            max_jobs=4,\n",
    "            max_parallel_jobs=2,\n",
    "            objective_type=\"Maximize\",\n",
    "        )\n",
    "        tune_step_logistic = TuningStep(\n",
    "            name=\"TuneLogisticRegression\",\n",
    "            tuner=tuner_logistic,\n",
    "            inputs={\n",
    "                \"train\": TrainingInput(\n",
    "                    s3_data=data_prep.\n",
    "                    properties.\n",
    "                    ProcessingOutputConfig.\n",
    "                    Outputs[\"train\"].S3Output.S3Uri\n",
    "                ),\n",
    "                \"test\": TrainingInput(\n",
    "                    s3_data=data_prep.\n",
    "                    properties.\n",
    "                    ProcessingOutputConfig.\n",
    "                    Outputs[\"test\"].S3Output.S3Uri\n",
    "                ),\n",
    "            },\n",
    "            cache_config=self.cache_config\n",
    "        )\n",
    "        return [tune_step_rf, tune_step_logistic]\n",
    "\n",
    "    def register_best_model(self, tune_step_rf, tune_step_logistic):\n",
    "        best_rf_f1 = (\n",
    "                tune_step_rf\n",
    "                .properties\n",
    "                .BestTrainingJob\n",
    "                .FinalHyperParameterTuningJobObjectiveMetric\n",
    "                .Value\n",
    "        )\n",
    "        best_logistic_f1 = (\n",
    "                tune_step_logistic\n",
    "                .properties\n",
    "                .BestTrainingJob\n",
    "                .FinalHyperParameterTuningJobObjectiveMetric\n",
    "                .Value\n",
    "        )\n",
    "        rf_model = SKLearnModel(\n",
    "            model_data=tune_step_rf.get_top_model_s3_uri(\n",
    "                             top_k=1,\n",
    "                             s3_bucket=self.artifacts_path\n",
    "                        ),\n",
    "            role=self.role,\n",
    "            entry_point=\"scripts/inference.py\",\n",
    "            framework_version=\"1.2-1\",\n",
    "            sagemaker_session=self.pipeline_session,\n",
    "        )\n",
    "        rf_register_args = rf_model.register(\n",
    "            content_types=[\"text/csv\"],\n",
    "            response_types=[\"text/csv\"],\n",
    "            inference_instances=[\"ml.m5.large\"],\n",
    "            transform_instances=[\"ml.m5.large\"],\n",
    "            model_package_group_name=\"ChurnPredictionModelGroup\",\n",
    "        )\n",
    "        step_register_rf_model = ModelStep(\n",
    "            name=\"RegisterRFModelConditional\",\n",
    "            step_args=rf_register_args,\n",
    "        )\n",
    "        # Same for logistic:\n",
    "        log_model = SKLearnModel(\n",
    "            model_data=tune_step_logistic.get_top_model_s3_uri(\n",
    "                                                top_k=1,\n",
    "                                                s3_bucket=self.artifacts_path\n",
    "                                            ),\n",
    "            role=self.role,\n",
    "            entry_point=\"scripts/inference.py\",\n",
    "            framework_version=\"1.2-1\",\n",
    "            sagemaker_session=self.pipeline_session,\n",
    "        )\n",
    "        log_register_args = log_model.register(\n",
    "            content_types=[\"text/csv\"],\n",
    "            response_types=[\"text/csv\"],\n",
    "            inference_instances=[\"ml.m5.large\"],\n",
    "            transform_instances=[\"ml.m5.large\"],\n",
    "            model_package_group_name=\"ChurnPredictionModelGroup\",\n",
    "        )\n",
    "        step_register_logistic_model = ModelStep(\n",
    "            name=\"RegisterLogisticModelConditional\",\n",
    "            step_args=log_register_args,\n",
    "        )\n",
    "        # Conditional step to choose and register the best model\n",
    "        choose_best_model_step = ConditionStep(\n",
    "            name=\"ChooseAndRegisterBestModelStep\",  # Made name more explicit\n",
    "            conditions=[ConditionGreaterThan(left=best_rf_f1,\n",
    "                                             right=best_logistic_f1)],\n",
    "            if_steps=[step_register_rf_model],\n",
    "            else_steps=[step_register_logistic_model],\n",
    "        )\n",
    "        return choose_best_model_step\n",
    "\n",
    "    def create_pipeline(self):\n",
    "\n",
    "        data_prep = self.create_data_prep_stage()\n",
    "        [tune_step_rf, tune_step_logistic] = self. model_traing_and_tuning(\n",
    "                                            data_prep)\n",
    "        choose_best_model_step = self.register_best_model(tune_step_rf,\n",
    "                                                          tune_step_logistic)\n",
    "        pipeline = Pipeline(\n",
    "            name=\"ChurnPredictionPipelineV2\",\n",
    "            steps=[\n",
    "                data_prep,           # Data preparation step\n",
    "                tune_step_rf,        # RF hyperparameter tuning\n",
    "                tune_step_logistic,  # Logistic hyperparameter tuning\n",
    "                choose_best_model_step  # Conditional step (contains the RegisterModel steps)\n",
    "            ],\n",
    "            sagemaker_session=self.sagemaker_session,\n",
    "        )\n",
    "        return pipeline\n",
    "\n",
    "    def run_pipeline(self):\n",
    "        pipeline = self.create_pipeline()\n",
    "        pipeline.upsert(role_arn=self.role)\n",
    "        self.execution = pipeline.start()\n",
    "        self.execution.describe()\n",
    "\n",
    "    def check_pipeline_status(self):\n",
    "        if self.execution is None:\n",
    "            raise RuntimeError(\"Pipeline has not been started yet\")\n",
    "        steps = self.execution.list_steps()\n",
    "        for step in steps:\n",
    "            print(f\"{step['StepName']} → {step['StepStatus']}\")\n",
    "            if 'FailureReason' in step:\n",
    "                print(f\"   Reason: {step['FailureReason']}\")\n",
    "\n",
    "    def get_model_arn(self, execution):\n",
    "        steps = self.execution.list_steps()\n",
    "        for step in steps:\n",
    "            if step[\"StepName\"] == \"ChooseAndRegisterBestModelStep\":\n",
    "                outcome = step[\"Metadata\"][\"Condition\"][\"Outcome\"]\n",
    "                print(\"Condition outcome:\", outcome)\n",
    "        if outcome == \"True\":  # RF was better\n",
    "            best_model_step = [s for s in steps if \"RegisterRFModelConditional\" in s[\"StepName\"]][0]\n",
    "        else:  # Logistic was better\n",
    "            best_model_step = [s for s in steps if \"RegisterLogisticModelConditional\" in s[\"StepName\"]][0]\n",
    "\n",
    "        model_arn = best_model_step[\"Metadata\"][\"RegisterModel\"][\"Arn\"]\n",
    "        print(\"Best model ARN:\", model_arn)\n",
    "        return model_arn\n",
    "\n",
    "    def sagemaker_endpoint(self):\n",
    "        model_package = get_model_arn()\n",
    "        model = ModelPackage(\n",
    "            role=role,\n",
    "            model_package_arn=model_package,\n",
    "            sagemaker_session=self.sagemaker_session,\n",
    "        )\n",
    "\n",
    "        predictor = model.deploy(\n",
    "            initial_instance_count=1,\n",
    "            instance_type=\"ml.m5.large\",\n",
    "            endpoint_name=\"churn-prediction-endpoint\",\n",
    "        )\n",
    "        return predictor\n",
    "\n",
    "    def deploy_model_with_sagemaker_endpoint(self):\n",
    "        predictor = self.sagemaker_endpoint()\n",
    "        return predictor\n"
   ]
  },
  {
   "cell_type": "code",
   "execution_count": 7,
   "id": "5c0b0d75-c7f6-410d-b07a-b160d6e7287a",
   "metadata": {
    "execution": {
     "iopub.execute_input": "2025-09-22T09:43:00.129112Z",
     "iopub.status.busy": "2025-09-22T09:43:00.128433Z",
     "iopub.status.idle": "2025-09-22T09:43:00.133788Z",
     "shell.execute_reply": "2025-09-22T09:43:00.133008Z",
     "shell.execute_reply.started": "2025-09-22T09:43:00.129080Z"
    }
   },
   "outputs": [],
   "source": [
    "def entry_point():\n",
    "    raw_data_s3_uri = \"s3://sagemakerantdata/smallchurndataset/raw/\"\n",
    "    output_bucket = \"sagemakerantdata\"\n",
    "    output_prefix = \"smallchurndataset/artifacts\"\n",
    "    artifacts_path = \"sagemakerantdata/smallchurndataset/artifacts\"\n",
    "    pipeline_instance = ChurnPredictionPipeline(\n",
    "        raw_data_s3_uri=raw_data_s3_uri,\n",
    "        output_bucket=output_bucket,\n",
    "        output_prefix=output_prefix,\n",
    "        artifacts_path=artifacts_path\n",
    "    )\n",
    "    return pipeline_instance"
   ]
  },
  {
   "cell_type": "code",
   "execution_count": 9,
   "id": "8db2f8bb-fcaa-4c06-bc68-95229659fd9f",
   "metadata": {
    "execution": {
     "iopub.execute_input": "2025-09-22T09:45:21.882484Z",
     "iopub.status.busy": "2025-09-22T09:45:21.882196Z",
     "iopub.status.idle": "2025-09-22T09:45:22.554302Z",
     "shell.execute_reply": "2025-09-22T09:45:22.553552Z",
     "shell.execute_reply.started": "2025-09-22T09:45:21.882461Z"
    }
   },
   "outputs": [],
   "source": [
    "pipeline_instance = entry_point()"
   ]
  },
  {
   "cell_type": "code",
   "execution_count": 10,
   "id": "f9d98204-6e84-4e2b-938f-17698ce53d5f",
   "metadata": {
    "execution": {
     "iopub.execute_input": "2025-09-22T09:46:23.521187Z",
     "iopub.status.busy": "2025-09-22T09:46:23.520870Z",
     "iopub.status.idle": "2025-09-22T09:46:26.401838Z",
     "shell.execute_reply": "2025-09-22T09:46:26.400910Z",
     "shell.execute_reply.started": "2025-09-22T09:46:23.521162Z"
    }
   },
   "outputs": [
    {
     "name": "stderr",
     "output_type": "stream",
     "text": [
      "INFO:sagemaker.image_uris:Defaulting to only available Python version: py3\n",
      "/opt/conda/lib/python3.12/site-packages/sagemaker/workflow/pipeline_context.py:332: UserWarning: Running within a PipelineSession, there will be No Wait, No Logs, and No Job being started.\n",
      "  warnings.warn(\n",
      "WARNING:sagemaker.workflow.utilities:Popping out 'ProcessingJobName' from the pipeline definition by default since it will be overridden at pipeline execution time. Please utilize the PipelineDefinitionConfig to persist this field in the pipeline definition if desired.\n",
      "WARNING:sagemaker.estimator:No finished training job found associated with this estimator. Please make sure this estimator is only used for building workflow config\n",
      "WARNING:sagemaker.estimator:No finished training job found associated with this estimator. Please make sure this estimator is only used for building workflow config\n",
      "WARNING:sagemaker.workflow.utilities:Popping out 'HyperParameterTuningJobName' from the pipeline definition by default since it will be overridden at pipeline execution time. Please utilize the PipelineDefinitionConfig to persist this field in the pipeline definition if desired.\n",
      "WARNING:sagemaker.estimator:No finished training job found associated with this estimator. Please make sure this estimator is only used for building workflow config\n",
      "WARNING:sagemaker.estimator:No finished training job found associated with this estimator. Please make sure this estimator is only used for building workflow config\n",
      "WARNING:sagemaker.workflow.utilities:Popping out 'HyperParameterTuningJobName' from the pipeline definition by default since it will be overridden at pipeline execution time. Please utilize the PipelineDefinitionConfig to persist this field in the pipeline definition if desired.\n",
      "WARNING:sagemaker.workflow._utils:Popping out 'CertifyForMarketplace' from the pipeline definition since it will be overridden in pipeline execution time.\n",
      "WARNING:sagemaker.workflow.utilities:Popping out 'ModelPackageName' from the pipeline definition by default since it will be overridden at pipeline execution time. Please utilize the PipelineDefinitionConfig to persist this field in the pipeline definition if desired.\n",
      "WARNING:sagemaker.workflow._utils:Popping out 'CertifyForMarketplace' from the pipeline definition since it will be overridden in pipeline execution time.\n",
      "WARNING:sagemaker.workflow.utilities:Popping out 'ModelPackageName' from the pipeline definition by default since it will be overridden at pipeline execution time. Please utilize the PipelineDefinitionConfig to persist this field in the pipeline definition if desired.\n",
      "WARNING:sagemaker.workflow.utilities:Popping out 'ProcessingJobName' from the pipeline definition by default since it will be overridden at pipeline execution time. Please utilize the PipelineDefinitionConfig to persist this field in the pipeline definition if desired.\n",
      "WARNING:sagemaker.estimator:No finished training job found associated with this estimator. Please make sure this estimator is only used for building workflow config\n",
      "WARNING:sagemaker.estimator:No finished training job found associated with this estimator. Please make sure this estimator is only used for building workflow config\n",
      "WARNING:sagemaker.workflow.utilities:Popping out 'HyperParameterTuningJobName' from the pipeline definition by default since it will be overridden at pipeline execution time. Please utilize the PipelineDefinitionConfig to persist this field in the pipeline definition if desired.\n",
      "WARNING:sagemaker.estimator:No finished training job found associated with this estimator. Please make sure this estimator is only used for building workflow config\n",
      "WARNING:sagemaker.estimator:No finished training job found associated with this estimator. Please make sure this estimator is only used for building workflow config\n",
      "WARNING:sagemaker.workflow.utilities:Popping out 'HyperParameterTuningJobName' from the pipeline definition by default since it will be overridden at pipeline execution time. Please utilize the PipelineDefinitionConfig to persist this field in the pipeline definition if desired.\n",
      "WARNING:sagemaker.workflow.utilities:Popping out 'ModelPackageName' from the pipeline definition by default since it will be overridden at pipeline execution time. Please utilize the PipelineDefinitionConfig to persist this field in the pipeline definition if desired.\n",
      "WARNING:sagemaker.workflow.utilities:Popping out 'ModelPackageName' from the pipeline definition by default since it will be overridden at pipeline execution time. Please utilize the PipelineDefinitionConfig to persist this field in the pipeline definition if desired.\n"
     ]
    }
   ],
   "source": [
    "pipeline_instance.run_pipeline()"
   ]
  },
  {
   "cell_type": "code",
   "execution_count": 13,
   "id": "f9f60c4f-8bb4-45b4-a89e-c03c800d6b3a",
   "metadata": {
    "execution": {
     "iopub.execute_input": "2025-09-22T09:54:56.797861Z",
     "iopub.status.busy": "2025-09-22T09:54:56.797554Z",
     "iopub.status.idle": "2025-09-22T09:54:56.963122Z",
     "shell.execute_reply": "2025-09-22T09:54:56.962419Z",
     "shell.execute_reply.started": "2025-09-22T09:54:56.797838Z"
    }
   },
   "outputs": [
    {
     "name": "stdout",
     "output_type": "stream",
     "text": [
      "TuneLogisticRegression → Executing\n",
      "TuneRandomForest → Executing\n",
      "ChurnDataPrep → Succeeded\n"
     ]
    }
   ],
   "source": []
  },
  {
   "cell_type": "code",
   "execution_count": 2,
   "id": "9c5dc8c4-b8af-4278-af1f-424a791ba420",
   "metadata": {
    "execution": {
     "iopub.execute_input": "2025-09-21T05:58:15.213232Z",
     "iopub.status.busy": "2025-09-21T05:58:15.213003Z",
     "iopub.status.idle": "2025-09-21T05:58:15.745122Z",
     "shell.execute_reply": "2025-09-21T05:58:15.744353Z",
     "shell.execute_reply.started": "2025-09-21T05:58:15.213210Z"
    }
   },
   "outputs": [],
   "source": []
  },
  {
   "cell_type": "code",
   "execution_count": 3,
   "id": "7207bdf8-89e1-47b0-af31-4ff0eb68616d",
   "metadata": {
    "execution": {
     "iopub.execute_input": "2025-09-21T05:58:15.746213Z",
     "iopub.status.busy": "2025-09-21T05:58:15.745912Z",
     "iopub.status.idle": "2025-09-21T05:58:15.922001Z",
     "shell.execute_reply": "2025-09-21T05:58:15.921256Z",
     "shell.execute_reply.started": "2025-09-21T05:58:15.746192Z"
    }
   },
   "outputs": [
    {
     "name": "stderr",
     "output_type": "stream",
     "text": [
      "INFO:sagemaker.image_uris:Defaulting to only available Python version: py3\n"
     ]
    }
   ],
   "source": []
  },
  {
   "cell_type": "code",
   "execution_count": null,
   "id": "e14b53a8-22e2-4d79-b3ff-ac87899628ea",
   "metadata": {},
   "outputs": [],
   "source": []
  },
  {
   "cell_type": "code",
   "execution_count": 4,
   "id": "b383ac88-cdaa-4b05-a710-1533788a99fb",
   "metadata": {
    "execution": {
     "iopub.execute_input": "2025-09-21T05:58:15.923618Z",
     "iopub.status.busy": "2025-09-21T05:58:15.923202Z",
     "iopub.status.idle": "2025-09-21T05:58:15.929345Z",
     "shell.execute_reply": "2025-09-21T05:58:15.928620Z",
     "shell.execute_reply.started": "2025-09-21T05:58:15.923590Z"
    }
   },
   "outputs": [],
   "source": []
  },
  {
   "cell_type": "code",
   "execution_count": 5,
   "id": "f1d91e67-0319-4873-8b93-3b17734de230",
   "metadata": {
    "execution": {
     "iopub.execute_input": "2025-09-21T05:58:20.030509Z",
     "iopub.status.busy": "2025-09-21T05:58:20.030197Z",
     "iopub.status.idle": "2025-09-21T05:58:20.034080Z",
     "shell.execute_reply": "2025-09-21T05:58:20.033206Z",
     "shell.execute_reply.started": "2025-09-21T05:58:20.030483Z"
    }
   },
   "outputs": [],
   "source": []
  },
  {
   "cell_type": "code",
   "execution_count": 6,
   "id": "a96713fa-6d6c-455d-a8ae-954fd5bb845f",
   "metadata": {
    "execution": {
     "iopub.execute_input": "2025-09-21T05:58:20.400056Z",
     "iopub.status.busy": "2025-09-21T05:58:20.399775Z",
     "iopub.status.idle": "2025-09-21T05:58:20.995027Z",
     "shell.execute_reply": "2025-09-21T05:58:20.993939Z",
     "shell.execute_reply.started": "2025-09-21T05:58:20.400032Z"
    },
    "scrolled": true
   },
   "outputs": [],
   "source": []
  },
  {
   "cell_type": "code",
   "execution_count": 7,
   "id": "be8b4d7a-b0b6-470b-8ee1-f9af39fe0da6",
   "metadata": {
    "execution": {
     "iopub.execute_input": "2025-09-21T05:58:20.996694Z",
     "iopub.status.busy": "2025-09-21T05:58:20.996337Z",
     "iopub.status.idle": "2025-09-21T05:58:21.000413Z",
     "shell.execute_reply": "2025-09-21T05:58:20.999594Z",
     "shell.execute_reply.started": "2025-09-21T05:58:20.996662Z"
    }
   },
   "outputs": [],
   "source": []
  },
  {
   "cell_type": "code",
   "execution_count": null,
   "id": "bf03c3ff-86da-41f1-b9ce-522e19ebaea8",
   "metadata": {},
   "outputs": [],
   "source": []
  },
  {
   "cell_type": "code",
   "execution_count": 22,
   "id": "635a3211-efec-4906-8f2b-a6aee54c3a59",
   "metadata": {
    "execution": {
     "iopub.execute_input": "2025-09-21T06:47:15.769074Z",
     "iopub.status.busy": "2025-09-21T06:47:15.768767Z",
     "iopub.status.idle": "2025-09-21T06:47:16.277797Z",
     "shell.execute_reply": "2025-09-21T06:47:16.277044Z",
     "shell.execute_reply.started": "2025-09-21T06:47:15.769040Z"
    },
    "scrolled": true
   },
   "outputs": [
    {
     "name": "stderr",
     "output_type": "stream",
     "text": [
      "/opt/conda/lib/python3.12/site-packages/sagemaker/workflow/pipeline_context.py:332: UserWarning: Running within a PipelineSession, there will be No Wait, No Logs, and No Job being started.\n",
      "  warnings.warn(\n"
     ]
    }
   ],
   "source": []
  },
  {
   "cell_type": "code",
   "execution_count": null,
   "id": "3f916245-562c-4456-a768-8b8be31f3b00",
   "metadata": {},
   "outputs": [],
   "source": []
  },
  {
   "cell_type": "code",
   "execution_count": 23,
   "id": "2b5f25be-6cab-41df-9d25-a619bd15bba9",
   "metadata": {
    "execution": {
     "iopub.execute_input": "2025-09-21T06:48:59.971057Z",
     "iopub.status.busy": "2025-09-21T06:48:59.970598Z",
     "iopub.status.idle": "2025-09-21T06:49:01.244226Z",
     "shell.execute_reply": "2025-09-21T06:49:01.243488Z",
     "shell.execute_reply.started": "2025-09-21T06:48:59.971027Z"
    }
   },
   "outputs": [
    {
     "name": "stderr",
     "output_type": "stream",
     "text": [
      "WARNING:sagemaker.workflow.utilities:Popping out 'ProcessingJobName' from the pipeline definition by default since it will be overridden at pipeline execution time. Please utilize the PipelineDefinitionConfig to persist this field in the pipeline definition if desired.\n",
      "WARNING:sagemaker.estimator:No finished training job found associated with this estimator. Please make sure this estimator is only used for building workflow config\n",
      "WARNING:sagemaker.estimator:No finished training job found associated with this estimator. Please make sure this estimator is only used for building workflow config\n",
      "WARNING:sagemaker.workflow.utilities:Popping out 'HyperParameterTuningJobName' from the pipeline definition by default since it will be overridden at pipeline execution time. Please utilize the PipelineDefinitionConfig to persist this field in the pipeline definition if desired.\n",
      "WARNING:sagemaker.estimator:No finished training job found associated with this estimator. Please make sure this estimator is only used for building workflow config\n",
      "WARNING:sagemaker.estimator:No finished training job found associated with this estimator. Please make sure this estimator is only used for building workflow config\n",
      "WARNING:sagemaker.workflow.utilities:Popping out 'HyperParameterTuningJobName' from the pipeline definition by default since it will be overridden at pipeline execution time. Please utilize the PipelineDefinitionConfig to persist this field in the pipeline definition if desired.\n",
      "WARNING:sagemaker.workflow._utils:Popping out 'CertifyForMarketplace' from the pipeline definition since it will be overridden in pipeline execution time.\n",
      "WARNING:sagemaker.workflow.utilities:Popping out 'ModelPackageName' from the pipeline definition by default since it will be overridden at pipeline execution time. Please utilize the PipelineDefinitionConfig to persist this field in the pipeline definition if desired.\n",
      "WARNING:sagemaker.workflow._utils:Popping out 'CertifyForMarketplace' from the pipeline definition since it will be overridden in pipeline execution time.\n",
      "WARNING:sagemaker.workflow.utilities:Popping out 'ModelPackageName' from the pipeline definition by default since it will be overridden at pipeline execution time. Please utilize the PipelineDefinitionConfig to persist this field in the pipeline definition if desired.\n",
      "WARNING:sagemaker.workflow.utilities:Popping out 'ProcessingJobName' from the pipeline definition by default since it will be overridden at pipeline execution time. Please utilize the PipelineDefinitionConfig to persist this field in the pipeline definition if desired.\n",
      "WARNING:sagemaker.estimator:No finished training job found associated with this estimator. Please make sure this estimator is only used for building workflow config\n",
      "WARNING:sagemaker.estimator:No finished training job found associated with this estimator. Please make sure this estimator is only used for building workflow config\n",
      "WARNING:sagemaker.workflow.utilities:Popping out 'HyperParameterTuningJobName' from the pipeline definition by default since it will be overridden at pipeline execution time. Please utilize the PipelineDefinitionConfig to persist this field in the pipeline definition if desired.\n",
      "WARNING:sagemaker.estimator:No finished training job found associated with this estimator. Please make sure this estimator is only used for building workflow config\n",
      "WARNING:sagemaker.estimator:No finished training job found associated with this estimator. Please make sure this estimator is only used for building workflow config\n",
      "WARNING:sagemaker.workflow.utilities:Popping out 'HyperParameterTuningJobName' from the pipeline definition by default since it will be overridden at pipeline execution time. Please utilize the PipelineDefinitionConfig to persist this field in the pipeline definition if desired.\n",
      "WARNING:sagemaker.workflow.utilities:Popping out 'ModelPackageName' from the pipeline definition by default since it will be overridden at pipeline execution time. Please utilize the PipelineDefinitionConfig to persist this field in the pipeline definition if desired.\n",
      "WARNING:sagemaker.workflow.utilities:Popping out 'ModelPackageName' from the pipeline definition by default since it will be overridden at pipeline execution time. Please utilize the PipelineDefinitionConfig to persist this field in the pipeline definition if desired.\n"
     ]
    },
    {
     "data": {
      "text/plain": [
       "{'PipelineArn': 'arn:aws:sagemaker:ap-south-1:891377324517:pipeline/ChurnPredictionPipelineV2',\n",
       " 'PipelineExecutionArn': 'arn:aws:sagemaker:ap-south-1:891377324517:pipeline/ChurnPredictionPipelineV2/execution/lf39scu8be3s',\n",
       " 'PipelineExecutionDisplayName': 'execution-1758437341140',\n",
       " 'PipelineExecutionStatus': 'Executing',\n",
       " 'CreationTime': datetime.datetime(2025, 9, 21, 6, 49, 1, 56000, tzinfo=tzlocal()),\n",
       " 'LastModifiedTime': datetime.datetime(2025, 9, 21, 6, 49, 1, 56000, tzinfo=tzlocal()),\n",
       " 'CreatedBy': {'UserProfileArn': 'arn:aws:sagemaker:ap-south-1:891377324517:user-profile/d-51dx373wnss0/default-20250903T125584',\n",
       "  'UserProfileName': 'default-20250903T125584',\n",
       "  'DomainId': 'd-51dx373wnss0',\n",
       "  'IamIdentity': {'Arn': 'arn:aws:sts::891377324517:assumed-role/AmazonSageMaker-ExecutionRole-20250903T125584/SageMaker',\n",
       "   'PrincipalId': 'AROA47CR2SHSWJ6BV5G2F:SageMaker'}},\n",
       " 'LastModifiedBy': {'UserProfileArn': 'arn:aws:sagemaker:ap-south-1:891377324517:user-profile/d-51dx373wnss0/default-20250903T125584',\n",
       "  'UserProfileName': 'default-20250903T125584',\n",
       "  'DomainId': 'd-51dx373wnss0',\n",
       "  'IamIdentity': {'Arn': 'arn:aws:sts::891377324517:assumed-role/AmazonSageMaker-ExecutionRole-20250903T125584/SageMaker',\n",
       "   'PrincipalId': 'AROA47CR2SHSWJ6BV5G2F:SageMaker'}},\n",
       " 'ResponseMetadata': {'RequestId': '1a778c50-8ca2-452d-bd22-2e10c284f057',\n",
       "  'HTTPStatusCode': 200,\n",
       "  'HTTPHeaders': {'x-amzn-requestid': '1a778c50-8ca2-452d-bd22-2e10c284f057',\n",
       "   'strict-transport-security': 'max-age=47304000; includeSubDomains',\n",
       "   'x-frame-options': 'DENY',\n",
       "   'content-security-policy': \"frame-ancestors 'none'\",\n",
       "   'cache-control': 'no-cache, no-store, must-revalidate',\n",
       "   'x-content-type-options': 'nosniff',\n",
       "   'content-type': 'application/x-amz-json-1.1',\n",
       "   'content-length': '1141',\n",
       "   'date': 'Sun, 21 Sep 2025 06:49:01 GMT'},\n",
       "  'RetryAttempts': 0}}"
      ]
     },
     "execution_count": 23,
     "metadata": {},
     "output_type": "execute_result"
    }
   ],
   "source": []
  },
  {
   "cell_type": "code",
   "execution_count": null,
   "id": "a89d6bcb-7ba7-49bc-a193-26383c17b10c",
   "metadata": {},
   "outputs": [],
   "source": []
  },
  {
   "cell_type": "code",
   "execution_count": null,
   "id": "eee13e51-727e-4054-ae70-3dc297d5a8b3",
   "metadata": {},
   "outputs": [],
   "source": []
  },
  {
   "cell_type": "code",
   "execution_count": 28,
   "id": "080ec29b-4e3d-4d5d-b42d-0275f35d6fc1",
   "metadata": {
    "execution": {
     "iopub.execute_input": "2025-09-21T07:01:15.433617Z",
     "iopub.status.busy": "2025-09-21T07:01:15.433309Z",
     "iopub.status.idle": "2025-09-21T07:01:15.439135Z",
     "shell.execute_reply": "2025-09-21T07:01:15.438096Z",
     "shell.execute_reply.started": "2025-09-21T07:01:15.433595Z"
    }
   },
   "outputs": [],
   "source": []
  },
  {
   "cell_type": "code",
   "execution_count": 34,
   "id": "8057a75b-19ca-46ea-ba56-26f0a680468e",
   "metadata": {
    "execution": {
     "iopub.execute_input": "2025-09-21T07:02:15.281697Z",
     "iopub.status.busy": "2025-09-21T07:02:15.281374Z",
     "iopub.status.idle": "2025-09-21T07:05:47.177484Z",
     "shell.execute_reply": "2025-09-21T07:05:47.176392Z",
     "shell.execute_reply.started": "2025-09-21T07:02:15.281670Z"
    }
   },
   "outputs": [
    {
     "name": "stderr",
     "output_type": "stream",
     "text": [
      "INFO:sagemaker:Creating model with name: ChurnPredictionModelGroup-2025-09-21-07-02-15-384\n"
     ]
    },
    {
     "name": "stdout",
     "output_type": "stream",
     "text": [
      "Condition outcome: False\n",
      "Best model ARN: arn:aws:sagemaker:ap-south-1:891377324517:model-package/ChurnPredictionModelGroup/3\n"
     ]
    },
    {
     "name": "stderr",
     "output_type": "stream",
     "text": [
      "INFO:sagemaker:Creating endpoint-config with name churn-prediction-endpoint\n",
      "INFO:sagemaker:Creating endpoint with name churn-prediction-endpoint\n"
     ]
    },
    {
     "name": "stdout",
     "output_type": "stream",
     "text": [
      "------!"
     ]
    }
   ],
   "source": []
  },
  {
   "cell_type": "code",
   "execution_count": 35,
   "id": "4c33d432-f9f9-4071-9268-12c6979deca4",
   "metadata": {
    "execution": {
     "iopub.execute_input": "2025-09-21T07:33:39.523587Z",
     "iopub.status.busy": "2025-09-21T07:33:39.523313Z",
     "iopub.status.idle": "2025-09-21T07:33:39.530728Z",
     "shell.execute_reply": "2025-09-21T07:33:39.530063Z",
     "shell.execute_reply.started": "2025-09-21T07:33:39.523566Z"
    }
   },
   "outputs": [],
   "source": []
  },
  {
   "cell_type": "code",
   "execution_count": 38,
   "id": "92f0b571-aa6a-4434-8d55-ef54869ec8bb",
   "metadata": {
    "execution": {
     "iopub.execute_input": "2025-09-21T07:36:31.795527Z",
     "iopub.status.busy": "2025-09-21T07:36:31.795236Z",
     "iopub.status.idle": "2025-09-21T07:36:31.987621Z",
     "shell.execute_reply": "2025-09-21T07:36:31.986320Z",
     "shell.execute_reply.started": "2025-09-21T07:36:31.795500Z"
    }
   },
   "outputs": [
    {
     "data": {
      "text/html": [
       "<pre style=\"white-space:pre;overflow-x:auto;line-height:normal;font-family:Menlo,'DejaVu Sans Mono',consolas,'Courier New',monospace\"><span style=\"color: #ff0000; text-decoration-color: #ff0000\">╭─────────────────────────────── </span><span style=\"color: #ff0000; text-decoration-color: #ff0000; font-weight: bold\">Traceback </span><span style=\"color: #ff7f7f; text-decoration-color: #ff7f7f; font-weight: bold\">(most recent call last)</span><span style=\"color: #ff0000; text-decoration-color: #ff0000\"> ────────────────────────────────╮</span>\n",
       "<span style=\"color: #ff0000; text-decoration-color: #ff0000\">│</span> in <span style=\"color: #00ff00; text-decoration-color: #00ff00\">&lt;module&gt;</span>:<span style=\"color: #0000ff; text-decoration-color: #0000ff\">1</span>                                                                                    <span style=\"color: #ff0000; text-decoration-color: #ff0000\">│</span>\n",
       "<span style=\"color: #ff0000; text-decoration-color: #ff0000\">│</span>                                                                                                  <span style=\"color: #ff0000; text-decoration-color: #ff0000\">│</span>\n",
       "<span style=\"color: #ff0000; text-decoration-color: #ff0000\">│</span> <span style=\"color: #800000; text-decoration-color: #800000\">❱ </span>1 response = <span style=\"font-weight: bold; text-decoration: underline\">runtime.invoke_endpoint(</span>                                                          <span style=\"color: #ff0000; text-decoration-color: #ff0000\">│</span>\n",
       "<span style=\"color: #ff0000; text-decoration-color: #ff0000\">│</span>   <span style=\"color: #7f7f7f; text-decoration-color: #7f7f7f\">2 </span><span style=\"color: #7f7f7f; text-decoration-color: #7f7f7f; font-weight: bold; text-decoration: underline\">│   </span><span style=\"font-weight: bold; text-decoration: underline\">EndpointName=ENDPOINT_NAME,</span>                                                              <span style=\"color: #ff0000; text-decoration-color: #ff0000\">│</span>\n",
       "<span style=\"color: #ff0000; text-decoration-color: #ff0000\">│</span>   <span style=\"color: #7f7f7f; text-decoration-color: #7f7f7f\">3 </span><span style=\"color: #7f7f7f; text-decoration-color: #7f7f7f; font-weight: bold; text-decoration: underline\">│   </span><span style=\"font-weight: bold; text-decoration: underline\">ContentType=</span><span style=\"color: #808000; text-decoration-color: #808000; font-weight: bold; text-decoration: underline\">\"text/csv\"</span><span style=\"font-weight: bold; text-decoration: underline\">,</span>                                                                  <span style=\"color: #ff0000; text-decoration-color: #ff0000\">│</span>\n",
       "<span style=\"color: #ff0000; text-decoration-color: #ff0000\">│</span>   <span style=\"color: #7f7f7f; text-decoration-color: #7f7f7f\">4 </span><span style=\"color: #7f7f7f; text-decoration-color: #7f7f7f; font-weight: bold; text-decoration: underline\">│   </span><span style=\"font-weight: bold; text-decoration: underline\">Body=</span><span style=\"color: #808000; text-decoration-color: #808000; font-weight: bold; text-decoration: underline\">\"30,1,12,1000\\n\"</span><span style=\"font-weight: bold; text-decoration: underline\">  </span><span style=\"color: #7f7f7f; text-decoration-color: #7f7f7f; font-weight: bold; text-decoration: underline\"># add newline for CSV parsing</span>                                     <span style=\"color: #ff0000; text-decoration-color: #ff0000\">│</span>\n",
       "<span style=\"color: #ff0000; text-decoration-color: #ff0000\">│</span>                                                                                                  <span style=\"color: #ff0000; text-decoration-color: #ff0000\">│</span>\n",
       "<span style=\"color: #ff0000; text-decoration-color: #ff0000\">│</span> <span style=\"color: #bfbf7f; text-decoration-color: #bfbf7f\">/opt/conda/lib/python3.12/site-packages/botocore/</span><span style=\"color: #808000; text-decoration-color: #808000; font-weight: bold\">client.py</span>:<span style=\"color: #0000ff; text-decoration-color: #0000ff\">569</span> in <span style=\"color: #00ff00; text-decoration-color: #00ff00\">_api_call</span>                      <span style=\"color: #ff0000; text-decoration-color: #ff0000\">│</span>\n",
       "<span style=\"color: #ff0000; text-decoration-color: #ff0000\">│</span>                                                                                                  <span style=\"color: #ff0000; text-decoration-color: #ff0000\">│</span>\n",
       "<span style=\"color: #ff0000; text-decoration-color: #ff0000\">│</span>   <span style=\"color: #7f7f7f; text-decoration-color: #7f7f7f\"> 566 </span><span style=\"color: #7f7f7f; text-decoration-color: #7f7f7f\">│   │   │   │   │   </span><span style=\"color: #808000; text-decoration-color: #808000\">f\"{</span>py_operation_name<span style=\"color: #808000; text-decoration-color: #808000\">}() only accepts keyword arguments.\"</span>              <span style=\"color: #ff0000; text-decoration-color: #ff0000\">│</span>\n",
       "<span style=\"color: #ff0000; text-decoration-color: #ff0000\">│</span>   <span style=\"color: #7f7f7f; text-decoration-color: #7f7f7f\"> 567 </span><span style=\"color: #7f7f7f; text-decoration-color: #7f7f7f\">│   │   │   │   </span>)                                                                         <span style=\"color: #ff0000; text-decoration-color: #ff0000\">│</span>\n",
       "<span style=\"color: #ff0000; text-decoration-color: #ff0000\">│</span>   <span style=\"color: #7f7f7f; text-decoration-color: #7f7f7f\"> 568 </span><span style=\"color: #7f7f7f; text-decoration-color: #7f7f7f\">│   │   │   </span><span style=\"color: #7f7f7f; text-decoration-color: #7f7f7f\"># The \"self\" in this scope is referring to the BaseClient.</span>                    <span style=\"color: #ff0000; text-decoration-color: #ff0000\">│</span>\n",
       "<span style=\"color: #ff0000; text-decoration-color: #ff0000\">│</span> <span style=\"color: #800000; text-decoration-color: #800000\">❱ </span> 569 <span style=\"color: #7f7f7f; text-decoration-color: #7f7f7f\">│   │   │   </span><span style=\"color: #0000ff; text-decoration-color: #0000ff\">return</span> <span style=\"color: #00ffff; text-decoration-color: #00ffff; font-weight: bold; text-decoration: underline\">self</span><span style=\"font-weight: bold; text-decoration: underline\">._make_api_call(operation_name, kwargs)</span>                            <span style=\"color: #ff0000; text-decoration-color: #ff0000\">│</span>\n",
       "<span style=\"color: #ff0000; text-decoration-color: #ff0000\">│</span>   <span style=\"color: #7f7f7f; text-decoration-color: #7f7f7f\"> 570 </span><span style=\"color: #7f7f7f; text-decoration-color: #7f7f7f\">│   │   </span>                                                                                  <span style=\"color: #ff0000; text-decoration-color: #ff0000\">│</span>\n",
       "<span style=\"color: #ff0000; text-decoration-color: #ff0000\">│</span>   <span style=\"color: #7f7f7f; text-decoration-color: #7f7f7f\"> 571 </span><span style=\"color: #7f7f7f; text-decoration-color: #7f7f7f\">│   │   </span>_api_call.<span style=\"color: #ff0000; text-decoration-color: #ff0000\">__name__</span> = <span style=\"color: #00ffff; text-decoration-color: #00ffff\">str</span>(py_operation_name)                                       <span style=\"color: #ff0000; text-decoration-color: #ff0000\">│</span>\n",
       "<span style=\"color: #ff0000; text-decoration-color: #ff0000\">│</span>   <span style=\"color: #7f7f7f; text-decoration-color: #7f7f7f\"> 572 </span>                                                                                          <span style=\"color: #ff0000; text-decoration-color: #ff0000\">│</span>\n",
       "<span style=\"color: #ff0000; text-decoration-color: #ff0000\">│</span>                                                                                                  <span style=\"color: #ff0000; text-decoration-color: #ff0000\">│</span>\n",
       "<span style=\"color: #ff0000; text-decoration-color: #ff0000\">│</span> <span style=\"color: #bfbf7f; text-decoration-color: #bfbf7f\">/opt/conda/lib/python3.12/site-packages/botocore/</span><span style=\"color: #808000; text-decoration-color: #808000; font-weight: bold\">client.py</span>:<span style=\"color: #0000ff; text-decoration-color: #0000ff\">1023</span> in <span style=\"color: #00ff00; text-decoration-color: #00ff00\">_make_api_call</span>                <span style=\"color: #ff0000; text-decoration-color: #ff0000\">│</span>\n",
       "<span style=\"color: #ff0000; text-decoration-color: #ff0000\">│</span>                                                                                                  <span style=\"color: #ff0000; text-decoration-color: #ff0000\">│</span>\n",
       "<span style=\"color: #ff0000; text-decoration-color: #ff0000\">│</span>   <span style=\"color: #7f7f7f; text-decoration-color: #7f7f7f\">1020 </span><span style=\"color: #7f7f7f; text-decoration-color: #7f7f7f\">│   │   │   │   </span><span style=\"color: #808000; text-decoration-color: #808000\">\"Code\"</span>                                                                    <span style=\"color: #ff0000; text-decoration-color: #ff0000\">│</span>\n",
       "<span style=\"color: #ff0000; text-decoration-color: #ff0000\">│</span>   <span style=\"color: #7f7f7f; text-decoration-color: #7f7f7f\">1021 </span><span style=\"color: #7f7f7f; text-decoration-color: #7f7f7f\">│   │   │   </span>)                                                                             <span style=\"color: #ff0000; text-decoration-color: #ff0000\">│</span>\n",
       "<span style=\"color: #ff0000; text-decoration-color: #ff0000\">│</span>   <span style=\"color: #7f7f7f; text-decoration-color: #7f7f7f\">1022 </span><span style=\"color: #7f7f7f; text-decoration-color: #7f7f7f\">│   │   │   </span>error_class = <span style=\"color: #00ffff; text-decoration-color: #00ffff\">self</span>.exceptions.from_code(error_code)                           <span style=\"color: #ff0000; text-decoration-color: #ff0000\">│</span>\n",
       "<span style=\"color: #ff0000; text-decoration-color: #ff0000\">│</span> <span style=\"color: #800000; text-decoration-color: #800000\">❱ </span>1023 <span style=\"color: #7f7f7f; text-decoration-color: #7f7f7f\">│   │   │   </span><span style=\"color: #0000ff; text-decoration-color: #0000ff; font-weight: bold; text-decoration: underline\">raise</span><span style=\"font-weight: bold; text-decoration: underline\"> error_class(parsed_response, operation_name)</span>                            <span style=\"color: #ff0000; text-decoration-color: #ff0000\">│</span>\n",
       "<span style=\"color: #ff0000; text-decoration-color: #ff0000\">│</span>   <span style=\"color: #7f7f7f; text-decoration-color: #7f7f7f\">1024 </span><span style=\"color: #7f7f7f; text-decoration-color: #7f7f7f\">│   │   </span><span style=\"color: #0000ff; text-decoration-color: #0000ff\">else</span>:                                                                             <span style=\"color: #ff0000; text-decoration-color: #ff0000\">│</span>\n",
       "<span style=\"color: #ff0000; text-decoration-color: #ff0000\">│</span>   <span style=\"color: #7f7f7f; text-decoration-color: #7f7f7f\">1025 </span><span style=\"color: #7f7f7f; text-decoration-color: #7f7f7f\">│   │   │   </span><span style=\"color: #0000ff; text-decoration-color: #0000ff\">return</span> parsed_response                                                        <span style=\"color: #ff0000; text-decoration-color: #ff0000\">│</span>\n",
       "<span style=\"color: #ff0000; text-decoration-color: #ff0000\">│</span>   <span style=\"color: #7f7f7f; text-decoration-color: #7f7f7f\">1026 </span>                                                                                          <span style=\"color: #ff0000; text-decoration-color: #ff0000\">│</span>\n",
       "<span style=\"color: #ff0000; text-decoration-color: #ff0000\">╰──────────────────────────────────────────────────────────────────────────────────────────────────╯</span>\n",
       "<span style=\"color: #ff0000; text-decoration-color: #ff0000; font-weight: bold\">ModelError: </span>An error occurred <span style=\"font-weight: bold\">(</span>ModelError<span style=\"font-weight: bold\">)</span> when calling the InvokeEndpoint operation: Received server error <span style=\"font-weight: bold\">(</span><span style=\"color: #008080; text-decoration-color: #008080; font-weight: bold\">500</span><span style=\"font-weight: bold\">)</span> \n",
       "from primary with message <span style=\"color: #008700; text-decoration-color: #008700\">\"</span><span style=\"color: #008700; text-decoration-color: #008700; font-weight: bold\">&lt;</span><span style=\"color: #008700; text-decoration-color: #008700\">!DOCTYPE HTML PUBLIC \"</span><span style=\"color: #000000; text-decoration-color: #000000\">-</span><span style=\"color: #e100e1; text-decoration-color: #e100e1\">//W3C//DTD</span><span style=\"color: #000000; text-decoration-color: #000000\"> HTML </span><span style=\"color: #008080; text-decoration-color: #008080; font-weight: bold\">3.2</span><span style=\"color: #000000; text-decoration-color: #000000\"> Final/</span><span style=\"color: #e100e1; text-decoration-color: #e100e1\">/EN</span><span style=\"color: #000000; text-decoration-color: #000000\">\"&gt;</span>\n",
       "<span style=\"color: #000000; text-decoration-color: #000000\">&lt;title&gt;</span><span style=\"color: #008080; text-decoration-color: #008080; font-weight: bold\">500</span><span style=\"color: #000000; text-decoration-color: #000000\"> Internal Server Error&lt;</span><span style=\"color: #e100e1; text-decoration-color: #e100e1\">/title</span><span style=\"color: #000000; text-decoration-color: #000000\">&gt;</span>\n",
       "<span style=\"color: #000000; text-decoration-color: #000000\">&lt;h1&gt;Internal Server Error&lt;</span><span style=\"color: #e100e1; text-decoration-color: #e100e1\">/h1</span><span style=\"color: #000000; text-decoration-color: #000000\">&gt;</span>\n",
       "<span style=\"color: #000000; text-decoration-color: #000000\">&lt;p&gt;The server encountered an internal error and was unable to complete your request. Either the server is </span>\n",
       "<span style=\"color: #000000; text-decoration-color: #000000\">overloaded or there is an error in the application.&lt;</span><span style=\"color: #e100e1; text-decoration-color: #e100e1\">/p</span><span style=\"font-weight: bold\">&gt;</span>\n",
       "\". See \n",
       "<span style=\"color: #0069ff; text-decoration-color: #0069ff; text-decoration: underline\">https://ap-south-1.console.aws.amazon.com/cloudwatch/home?</span><span style=\"color: #0069ff; text-decoration-color: #0069ff; text-decoration: underline\">region</span><span style=\"color: #0069ff; text-decoration-color: #0069ff; text-decoration: underline\">=</span><span style=\"color: #0069ff; text-decoration-color: #0069ff; text-decoration: underline\">ap</span><span style=\"color: #0069ff; text-decoration-color: #0069ff; text-decoration: underline\">-south-1#logEventViewer:</span><span style=\"color: #0069ff; text-decoration-color: #0069ff; text-decoration: underline\">group</span><span style=\"color: #0069ff; text-decoration-color: #0069ff; text-decoration: underline\">=/aws/sagemaker/End</span>\n",
       "<span style=\"color: #0069ff; text-decoration-color: #0069ff; text-decoration: underline\">points/churn-prediction-endpoint</span> in account <span style=\"color: #008080; text-decoration-color: #008080; font-weight: bold\">891377324517</span> for more information.\n",
       "</pre>\n"
      ],
      "text/plain": [
       "\u001b[38;2;255;0;0m╭─\u001b[0m\u001b[38;2;255;0;0m──────────────────────────────\u001b[0m\u001b[38;2;255;0;0m \u001b[0m\u001b[1;38;2;255;0;0mTraceback \u001b[0m\u001b[1;2;38;2;255;0;0m(most recent call last)\u001b[0m\u001b[38;2;255;0;0m \u001b[0m\u001b[38;2;255;0;0m───────────────────────────────\u001b[0m\u001b[38;2;255;0;0m─╮\u001b[0m\n",
       "\u001b[38;2;255;0;0m│\u001b[0m in \u001b[92m<module>\u001b[0m:\u001b[94m1\u001b[0m                                                                                    \u001b[38;2;255;0;0m│\u001b[0m\n",
       "\u001b[38;2;255;0;0m│\u001b[0m                                                                                                  \u001b[38;2;255;0;0m│\u001b[0m\n",
       "\u001b[38;2;255;0;0m│\u001b[0m \u001b[31m❱ \u001b[0m1 response = \u001b[1;4mruntime.invoke_endpoint(\u001b[0m                                                          \u001b[38;2;255;0;0m│\u001b[0m\n",
       "\u001b[38;2;255;0;0m│\u001b[0m   \u001b[2m2 \u001b[0m\u001b[1;2;4m│   \u001b[0m\u001b[1;4mEndpointName=ENDPOINT_NAME,\u001b[0m                                                              \u001b[38;2;255;0;0m│\u001b[0m\n",
       "\u001b[38;2;255;0;0m│\u001b[0m   \u001b[2m3 \u001b[0m\u001b[1;2;4m│   \u001b[0m\u001b[1;4mContentType=\u001b[0m\u001b[1;4;33m\"\u001b[0m\u001b[1;4;33mtext/csv\u001b[0m\u001b[1;4;33m\"\u001b[0m\u001b[1;4m,\u001b[0m                                                                  \u001b[38;2;255;0;0m│\u001b[0m\n",
       "\u001b[38;2;255;0;0m│\u001b[0m   \u001b[2m4 \u001b[0m\u001b[1;2;4m│   \u001b[0m\u001b[1;4mBody=\u001b[0m\u001b[1;4;33m\"\u001b[0m\u001b[1;4;33m30,1,12,1000\u001b[0m\u001b[1;4;33m\\n\u001b[0m\u001b[1;4;33m\"\u001b[0m\u001b[1;4m  \u001b[0m\u001b[1;2;4m# add newline for CSV parsing\u001b[0m                                     \u001b[38;2;255;0;0m│\u001b[0m\n",
       "\u001b[38;2;255;0;0m│\u001b[0m                                                                                                  \u001b[38;2;255;0;0m│\u001b[0m\n",
       "\u001b[38;2;255;0;0m│\u001b[0m \u001b[2;33m/opt/conda/lib/python3.12/site-packages/botocore/\u001b[0m\u001b[1;33mclient.py\u001b[0m:\u001b[94m569\u001b[0m in \u001b[92m_api_call\u001b[0m                      \u001b[38;2;255;0;0m│\u001b[0m\n",
       "\u001b[38;2;255;0;0m│\u001b[0m                                                                                                  \u001b[38;2;255;0;0m│\u001b[0m\n",
       "\u001b[38;2;255;0;0m│\u001b[0m   \u001b[2m 566 \u001b[0m\u001b[2m│   │   │   │   │   \u001b[0m\u001b[33mf\u001b[0m\u001b[33m\"\u001b[0m\u001b[33m{\u001b[0mpy_operation_name\u001b[33m}\u001b[0m\u001b[33m() only accepts keyword arguments.\u001b[0m\u001b[33m\"\u001b[0m              \u001b[38;2;255;0;0m│\u001b[0m\n",
       "\u001b[38;2;255;0;0m│\u001b[0m   \u001b[2m 567 \u001b[0m\u001b[2m│   │   │   │   \u001b[0m)                                                                         \u001b[38;2;255;0;0m│\u001b[0m\n",
       "\u001b[38;2;255;0;0m│\u001b[0m   \u001b[2m 568 \u001b[0m\u001b[2m│   │   │   \u001b[0m\u001b[2m# The \"self\" in this scope is referring to the BaseClient.\u001b[0m                    \u001b[38;2;255;0;0m│\u001b[0m\n",
       "\u001b[38;2;255;0;0m│\u001b[0m \u001b[31m❱ \u001b[0m 569 \u001b[2m│   │   │   \u001b[0m\u001b[94mreturn\u001b[0m \u001b[1;4;96mself\u001b[0m\u001b[1;4m._make_api_call(operation_name, kwargs)\u001b[0m                            \u001b[38;2;255;0;0m│\u001b[0m\n",
       "\u001b[38;2;255;0;0m│\u001b[0m   \u001b[2m 570 \u001b[0m\u001b[2m│   │   \u001b[0m                                                                                  \u001b[38;2;255;0;0m│\u001b[0m\n",
       "\u001b[38;2;255;0;0m│\u001b[0m   \u001b[2m 571 \u001b[0m\u001b[2m│   │   \u001b[0m_api_call.\u001b[91m__name__\u001b[0m = \u001b[96mstr\u001b[0m(py_operation_name)                                       \u001b[38;2;255;0;0m│\u001b[0m\n",
       "\u001b[38;2;255;0;0m│\u001b[0m   \u001b[2m 572 \u001b[0m                                                                                          \u001b[38;2;255;0;0m│\u001b[0m\n",
       "\u001b[38;2;255;0;0m│\u001b[0m                                                                                                  \u001b[38;2;255;0;0m│\u001b[0m\n",
       "\u001b[38;2;255;0;0m│\u001b[0m \u001b[2;33m/opt/conda/lib/python3.12/site-packages/botocore/\u001b[0m\u001b[1;33mclient.py\u001b[0m:\u001b[94m1023\u001b[0m in \u001b[92m_make_api_call\u001b[0m                \u001b[38;2;255;0;0m│\u001b[0m\n",
       "\u001b[38;2;255;0;0m│\u001b[0m                                                                                                  \u001b[38;2;255;0;0m│\u001b[0m\n",
       "\u001b[38;2;255;0;0m│\u001b[0m   \u001b[2m1020 \u001b[0m\u001b[2m│   │   │   │   \u001b[0m\u001b[33m\"\u001b[0m\u001b[33mCode\u001b[0m\u001b[33m\"\u001b[0m                                                                    \u001b[38;2;255;0;0m│\u001b[0m\n",
       "\u001b[38;2;255;0;0m│\u001b[0m   \u001b[2m1021 \u001b[0m\u001b[2m│   │   │   \u001b[0m)                                                                             \u001b[38;2;255;0;0m│\u001b[0m\n",
       "\u001b[38;2;255;0;0m│\u001b[0m   \u001b[2m1022 \u001b[0m\u001b[2m│   │   │   \u001b[0merror_class = \u001b[96mself\u001b[0m.exceptions.from_code(error_code)                           \u001b[38;2;255;0;0m│\u001b[0m\n",
       "\u001b[38;2;255;0;0m│\u001b[0m \u001b[31m❱ \u001b[0m1023 \u001b[2m│   │   │   \u001b[0m\u001b[1;4;94mraise\u001b[0m\u001b[1;4m error_class(parsed_response, operation_name)\u001b[0m                            \u001b[38;2;255;0;0m│\u001b[0m\n",
       "\u001b[38;2;255;0;0m│\u001b[0m   \u001b[2m1024 \u001b[0m\u001b[2m│   │   \u001b[0m\u001b[94melse\u001b[0m:                                                                             \u001b[38;2;255;0;0m│\u001b[0m\n",
       "\u001b[38;2;255;0;0m│\u001b[0m   \u001b[2m1025 \u001b[0m\u001b[2m│   │   │   \u001b[0m\u001b[94mreturn\u001b[0m parsed_response                                                        \u001b[38;2;255;0;0m│\u001b[0m\n",
       "\u001b[38;2;255;0;0m│\u001b[0m   \u001b[2m1026 \u001b[0m                                                                                          \u001b[38;2;255;0;0m│\u001b[0m\n",
       "\u001b[38;2;255;0;0m╰──────────────────────────────────────────────────────────────────────────────────────────────────╯\u001b[0m\n",
       "\u001b[1;91mModelError: \u001b[0mAn error occurred \u001b[1m(\u001b[0mModelError\u001b[1m)\u001b[0m when calling the InvokeEndpoint operation: Received server error \u001b[1m(\u001b[0m\u001b[1;36m500\u001b[0m\u001b[1m)\u001b[0m \n",
       "from primary with message \u001b[38;2;0;135;0m\"\u001b[0m\u001b[1;38;2;0;135;0m<\u001b[0m\u001b[38;2;0;135;0m!DOCTYPE HTML PUBLIC \"\u001b[0m\u001b[39m-\u001b[0m\u001b[38;2;225;0;225m/\u001b[0m\u001b[38;2;225;0;225m/W3C/\u001b[0m\u001b[38;2;225;0;225m/\u001b[0m\u001b[38;2;225;0;225mDTD\u001b[0m\u001b[39m HTML \u001b[0m\u001b[1;36m3.2\u001b[0m\u001b[39m Final/\u001b[0m\u001b[38;2;225;0;225m/\u001b[0m\u001b[38;2;225;0;225mEN\u001b[0m\u001b[39m\">\u001b[0m\n",
       "\u001b[39m<title>\u001b[0m\u001b[1;36m500\u001b[0m\u001b[39m Internal Server Error<\u001b[0m\u001b[38;2;225;0;225m/\u001b[0m\u001b[38;2;225;0;225mtitle\u001b[0m\u001b[39m>\u001b[0m\n",
       "\u001b[39m<h1>Internal Server Error<\u001b[0m\u001b[38;2;225;0;225m/\u001b[0m\u001b[38;2;225;0;225mh1\u001b[0m\u001b[39m>\u001b[0m\n",
       "\u001b[39m<p>The server encountered an internal error and was unable to complete your request. Either the server is \u001b[0m\n",
       "\u001b[39moverloaded or there is an error in the application.<\u001b[0m\u001b[38;2;225;0;225m/\u001b[0m\u001b[38;2;225;0;225mp\u001b[0m\u001b[1m>\u001b[0m\n",
       "\". See \n",
       "\u001b[4;38;2;0;105;255mhttps://ap-south-1.console.aws.amazon.com/cloudwatch/home?\u001b[0m\u001b[4;38;2;0;105;255mregion\u001b[0m\u001b[4;38;2;0;105;255m=\u001b[0m\u001b[4;38;2;0;105;255map\u001b[0m\u001b[4;38;2;0;105;255m-south-1#logEventViewer:\u001b[0m\u001b[4;38;2;0;105;255mgroup\u001b[0m\u001b[4;38;2;0;105;255m=/aws/sagemaker/End\u001b[0m\n",
       "\u001b[4;38;2;0;105;255mpoints/churn-prediction-endpoint\u001b[0m in account \u001b[1;36m891377324517\u001b[0m for more information.\n"
      ]
     },
     "metadata": {},
     "output_type": "display_data"
    }
   ],
   "source": []
  },
  {
   "cell_type": "code",
   "execution_count": 32,
   "id": "de4c45aa-c45d-499d-a635-f3dce06a8d8e",
   "metadata": {
    "execution": {
     "iopub.execute_input": "2025-09-21T07:01:56.949573Z",
     "iopub.status.busy": "2025-09-21T07:01:56.949242Z",
     "iopub.status.idle": "2025-09-21T07:01:57.218072Z",
     "shell.execute_reply": "2025-09-21T07:01:57.217082Z",
     "shell.execute_reply.started": "2025-09-21T07:01:56.949546Z"
    }
   },
   "outputs": [],
   "source": []
  },
  {
   "cell_type": "code",
   "execution_count": 33,
   "id": "86e06a0d-0355-4309-ae2b-089dfe8dc87a",
   "metadata": {
    "execution": {
     "iopub.execute_input": "2025-09-21T07:02:04.384690Z",
     "iopub.status.busy": "2025-09-21T07:02:04.384406Z",
     "iopub.status.idle": "2025-09-21T07:02:04.406091Z",
     "shell.execute_reply": "2025-09-21T07:02:04.405025Z",
     "shell.execute_reply.started": "2025-09-21T07:02:04.384666Z"
    }
   },
   "outputs": [
    {
     "data": {
      "text/html": [
       "<pre style=\"white-space:pre;overflow-x:auto;line-height:normal;font-family:Menlo,'DejaVu Sans Mono',consolas,'Courier New',monospace\"><span style=\"color: #ff0000; text-decoration-color: #ff0000\">╭─────────────────────────────── </span><span style=\"color: #ff0000; text-decoration-color: #ff0000; font-weight: bold\">Traceback </span><span style=\"color: #ff7f7f; text-decoration-color: #ff7f7f; font-weight: bold\">(most recent call last)</span><span style=\"color: #ff0000; text-decoration-color: #ff0000\"> ────────────────────────────────╮</span>\n",
       "<span style=\"color: #ff0000; text-decoration-color: #ff0000\">│</span> in <span style=\"color: #00ff00; text-decoration-color: #00ff00\">&lt;module&gt;</span>:<span style=\"color: #0000ff; text-decoration-color: #0000ff\">2</span>                                                                                    <span style=\"color: #ff0000; text-decoration-color: #ff0000\">│</span>\n",
       "<span style=\"color: #ff0000; text-decoration-color: #ff0000\">│</span>                                                                                                  <span style=\"color: #ff0000; text-decoration-color: #ff0000\">│</span>\n",
       "<span style=\"color: #ff0000; text-decoration-color: #ff0000\">│</span>   <span style=\"color: #7f7f7f; text-decoration-color: #7f7f7f\">1 # Delete endpoint to avoid costs</span>                                                             <span style=\"color: #ff0000; text-decoration-color: #ff0000\">│</span>\n",
       "<span style=\"color: #ff0000; text-decoration-color: #ff0000\">│</span> <span style=\"color: #800000; text-decoration-color: #800000\">❱ </span>2 <span style=\"font-weight: bold; text-decoration: underline\">predictor</span>.delete_endpoint()                                                                  <span style=\"color: #ff0000; text-decoration-color: #ff0000\">│</span>\n",
       "<span style=\"color: #ff0000; text-decoration-color: #ff0000\">│</span>   <span style=\"color: #7f7f7f; text-decoration-color: #7f7f7f\">3 </span>                                                                                             <span style=\"color: #ff0000; text-decoration-color: #ff0000\">│</span>\n",
       "<span style=\"color: #ff0000; text-decoration-color: #ff0000\">╰──────────────────────────────────────────────────────────────────────────────────────────────────╯</span>\n",
       "<span style=\"color: #ff0000; text-decoration-color: #ff0000; font-weight: bold\">NameError: </span>name <span style=\"color: #008700; text-decoration-color: #008700\">'predictor'</span> is not defined\n",
       "</pre>\n"
      ],
      "text/plain": [
       "\u001b[38;2;255;0;0m╭─\u001b[0m\u001b[38;2;255;0;0m──────────────────────────────\u001b[0m\u001b[38;2;255;0;0m \u001b[0m\u001b[1;38;2;255;0;0mTraceback \u001b[0m\u001b[1;2;38;2;255;0;0m(most recent call last)\u001b[0m\u001b[38;2;255;0;0m \u001b[0m\u001b[38;2;255;0;0m───────────────────────────────\u001b[0m\u001b[38;2;255;0;0m─╮\u001b[0m\n",
       "\u001b[38;2;255;0;0m│\u001b[0m in \u001b[92m<module>\u001b[0m:\u001b[94m2\u001b[0m                                                                                    \u001b[38;2;255;0;0m│\u001b[0m\n",
       "\u001b[38;2;255;0;0m│\u001b[0m                                                                                                  \u001b[38;2;255;0;0m│\u001b[0m\n",
       "\u001b[38;2;255;0;0m│\u001b[0m   \u001b[2m1 \u001b[0m\u001b[2m# Delete endpoint to avoid costs\u001b[0m                                                             \u001b[38;2;255;0;0m│\u001b[0m\n",
       "\u001b[38;2;255;0;0m│\u001b[0m \u001b[31m❱ \u001b[0m2 \u001b[1;4mpredictor\u001b[0m.delete_endpoint()                                                                  \u001b[38;2;255;0;0m│\u001b[0m\n",
       "\u001b[38;2;255;0;0m│\u001b[0m   \u001b[2m3 \u001b[0m                                                                                             \u001b[38;2;255;0;0m│\u001b[0m\n",
       "\u001b[38;2;255;0;0m╰──────────────────────────────────────────────────────────────────────────────────────────────────╯\u001b[0m\n",
       "\u001b[1;91mNameError: \u001b[0mname \u001b[38;2;0;135;0m'predictor'\u001b[0m is not defined\n"
      ]
     },
     "metadata": {},
     "output_type": "display_data"
    }
   ],
   "source": []
  },
  {
   "cell_type": "code",
   "execution_count": null,
   "id": "2cad6d34-15ed-4df2-8cff-c7aa1c2aea36",
   "metadata": {
    "execution": {
     "execution_failed": "2025-09-20T12:50:58.676Z"
    }
   },
   "outputs": [],
   "source": []
  },
  {
   "cell_type": "code",
   "execution_count": 27,
   "id": "87bd6f76-8f4b-4661-ac6b-fa5e0b70a8d7",
   "metadata": {
    "execution": {
     "iopub.execute_input": "2025-09-21T07:01:00.577604Z",
     "iopub.status.busy": "2025-09-21T07:01:00.577248Z",
     "iopub.status.idle": "2025-09-21T07:01:00.688480Z",
     "shell.execute_reply": "2025-09-21T07:01:00.687728Z",
     "shell.execute_reply.started": "2025-09-21T07:01:00.577577Z"
    }
   },
   "outputs": [
    {
     "name": "stdout",
     "output_type": "stream",
     "text": [
      "RegisterLogisticModelConditional-RegisterModel → Succeeded\n",
      "ChooseAndRegisterBestModelStep → Succeeded\n",
      "TuneLogisticRegression → Succeeded\n",
      "TuneRandomForest → Succeeded\n",
      "ChurnDataPrep → Succeeded\n"
     ]
    }
   ],
   "source": []
  },
  {
   "cell_type": "code",
   "execution_count": 25,
   "id": "eea6eaf7-430b-4b1e-a67f-ae6819d3c257",
   "metadata": {
    "execution": {
     "iopub.execute_input": "2025-09-20T12:27:48.494406Z",
     "iopub.status.busy": "2025-09-20T12:27:48.494123Z",
     "iopub.status.idle": "2025-09-20T12:27:48.598830Z",
     "shell.execute_reply": "2025-09-20T12:27:48.597985Z",
     "shell.execute_reply.started": "2025-09-20T12:27:48.494384Z"
    }
   },
   "outputs": [
    {
     "name": "stdout",
     "output_type": "stream",
     "text": [
      "Condition outcome: False\n",
      "Best model ARN: arn:aws:sagemaker:ap-south-1:891377324517:model-package/ChurnPredictionModelGroup/1\n"
     ]
    }
   ],
   "source": []
  },
  {
   "cell_type": "code",
   "execution_count": null,
   "id": "4d22872c-f3d6-49bb-91a7-b6d96873d7c7",
   "metadata": {},
   "outputs": [],
   "source": []
  },
  {
   "cell_type": "code",
   "execution_count": null,
   "id": "aedc513f-7411-4281-9ed5-b8e4533949cb",
   "metadata": {},
   "outputs": [],
   "source": []
  }
 ],
 "metadata": {
  "kernelspec": {
   "display_name": "Python 3 (ipykernel)",
   "language": "python",
   "name": "python3"
  },
  "language_info": {
   "codemirror_mode": {
    "name": "ipython",
    "version": 3
   },
   "file_extension": ".py",
   "mimetype": "text/x-python",
   "name": "python",
   "nbconvert_exporter": "python",
   "pygments_lexer": "ipython3",
   "version": "3.12.9"
  }
 },
 "nbformat": 4,
 "nbformat_minor": 5
}
