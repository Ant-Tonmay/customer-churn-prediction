{
 "cells": [
  {
   "cell_type": "code",
   "execution_count": 1,
   "id": "43ca0d36-0ae0-49e0-b84d-a5e54a6e6bc4",
   "metadata": {
    "execution": {
     "iopub.execute_input": "2025-09-19T05:43:52.401096Z",
     "iopub.status.busy": "2025-09-19T05:43:52.400823Z",
     "iopub.status.idle": "2025-09-19T05:43:55.236420Z",
     "shell.execute_reply": "2025-09-19T05:43:55.235649Z",
     "shell.execute_reply.started": "2025-09-19T05:43:52.401074Z"
    }
   },
   "outputs": [
    {
     "name": "stdout",
     "output_type": "stream",
     "text": [
      "sagemaker.config INFO - Not applying SDK defaults from location: /etc/xdg/sagemaker/config.yaml\n",
      "sagemaker.config INFO - Not applying SDK defaults from location: /home/sagemaker-user/.config/sagemaker/config.yaml\n"
     ]
    }
   ],
   "source": [
    "import sagemaker\n",
    "from sagemaker.workflow.pipeline import Pipeline\n",
    "from sagemaker.workflow.steps import ProcessingStep, TrainingStep\n",
    "from sagemaker.processing import FrameworkProcessor, ProcessingInput, ProcessingOutput\n",
    "from sagemaker.sklearn.processing import SKLearnProcessor\n",
    "from sagemaker.sklearn.estimator import SKLearn\n",
    "from sagemaker.workflow.properties import PropertyFile\n",
    "from sagemaker.workflow.steps import CacheConfig\n",
    "from sagemaker.tuner import HyperparameterTuner, ContinuousParameter, IntegerParameter\n",
    "from sagemaker.inputs import TrainingInput\n",
    "from sagemaker.inputs import TrainingInput\n",
    "from sagemaker.workflow.steps import TuningStep\n",
    "from sagemaker.xgboost import XGBoost\n",
    "from sagemaker.estimator import InstanceGroup\n"
   ]
  },
  {
   "cell_type": "code",
   "execution_count": 32,
   "id": "9c5dc8c4-b8af-4278-af1f-424a791ba420",
   "metadata": {
    "execution": {
     "iopub.execute_input": "2025-09-19T06:33:28.521174Z",
     "iopub.status.busy": "2025-09-19T06:33:28.520862Z",
     "iopub.status.idle": "2025-09-19T06:33:28.791580Z",
     "shell.execute_reply": "2025-09-19T06:33:28.790501Z",
     "shell.execute_reply.started": "2025-09-19T06:33:28.521151Z"
    }
   },
   "outputs": [],
   "source": [
    "sagemaker_session = sagemaker.Session()\n",
    "role = sagemaker.get_execution_role()\n",
    "bucket = sagemaker_session.default_bucket()\n",
    "region = sagemaker_session.boto_region_name\n",
    "raw_data_s3_uri = \"s3://sagemakerantdata/smallchurndataset/raw/\""
   ]
  },
  {
   "cell_type": "code",
   "execution_count": 46,
   "id": "7207bdf8-89e1-47b0-af31-4ff0eb68616d",
   "metadata": {
    "execution": {
     "iopub.execute_input": "2025-09-19T07:03:52.247058Z",
     "iopub.status.busy": "2025-09-19T07:03:52.246754Z",
     "iopub.status.idle": "2025-09-19T07:03:52.308965Z",
     "shell.execute_reply": "2025-09-19T07:03:52.308157Z",
     "shell.execute_reply.started": "2025-09-19T07:03:52.247035Z"
    }
   },
   "outputs": [
    {
     "name": "stderr",
     "output_type": "stream",
     "text": [
      "INFO:sagemaker.image_uris:Defaulting to only available Python version: py3\n"
     ]
    }
   ],
   "source": [
    "sklearn_processor = SKLearnProcessor(\n",
    "    framework_version=\"1.2-1\",\n",
    "    role=role,\n",
    "    instance_type=\"ml.t3.medium\",\n",
    "    instance_count=1,\n",
    ")\n"
   ]
  },
  {
   "cell_type": "code",
   "execution_count": null,
   "id": "e14b53a8-22e2-4d79-b3ff-ac87899628ea",
   "metadata": {},
   "outputs": [],
   "source": []
  },
  {
   "cell_type": "code",
   "execution_count": 27,
   "id": "b383ac88-cdaa-4b05-a710-1533788a99fb",
   "metadata": {
    "execution": {
     "iopub.execute_input": "2025-09-19T06:23:14.366782Z",
     "iopub.status.busy": "2025-09-19T06:23:14.366472Z",
     "iopub.status.idle": "2025-09-19T06:23:14.372265Z",
     "shell.execute_reply": "2025-09-19T06:23:14.371036Z",
     "shell.execute_reply.started": "2025-09-19T06:23:14.366759Z"
    }
   },
   "outputs": [],
   "source": [
    "cache_config = CacheConfig(enable_caching=True, expire_after=\"30d\")\n",
    "\n",
    "data_prep = ProcessingStep(\n",
    "    name=\"ChurnDataPrep\",\n",
    "    processor=sklearn_processor,\n",
    "    code=\"scripts/data_ingestion.py\",\n",
    "    inputs=[\n",
    "        ProcessingInput(source=raw_data_s3_uri, destination=\"/opt/ml/processing/input\")\n",
    "    ],\n",
    "    outputs=[\n",
    "        ProcessingOutput(\n",
    "            output_name=\"train\",\n",
    "            source=\"/opt/ml/processing/output/train\",\n",
    "            destination=\"s3://sagemakerantdata/smallchurndataset/processed/train\"\n",
    "        ),\n",
    "        ProcessingOutput(\n",
    "            output_name=\"test\",\n",
    "            source=\"/opt/ml/processing/output/test\",\n",
    "            destination=\"s3://sagemakerantdata/smallchurndataset/processed/test\"\n",
    "        ),\n",
    "    ],\n",
    ")"
   ]
  },
  {
   "cell_type": "code",
   "execution_count": 48,
   "id": "f1d91e67-0319-4873-8b93-3b17734de230",
   "metadata": {
    "execution": {
     "iopub.execute_input": "2025-09-18T20:35:56.336449Z",
     "iopub.status.busy": "2025-09-18T20:35:56.336191Z",
     "iopub.status.idle": "2025-09-18T20:35:56.339487Z",
     "shell.execute_reply": "2025-09-18T20:35:56.338760Z",
     "shell.execute_reply.started": "2025-09-18T20:35:56.336428Z"
    }
   },
   "outputs": [],
   "source": [
    "# pipeline = Pipeline(\n",
    "#     name=\"ChurnPredictionPipeline\",\n",
    "#     parameters=[], # You can define pipeline-level parameters here\n",
    "#     steps=[data_prep],\n",
    "#     sagemaker_session=sagemaker_session,\n",
    "# # )\n"
   ]
  },
  {
   "cell_type": "code",
   "execution_count": 58,
   "id": "a96713fa-6d6c-455d-a8ae-954fd5bb845f",
   "metadata": {
    "execution": {
     "iopub.execute_input": "2025-09-19T07:35:46.130603Z",
     "iopub.status.busy": "2025-09-19T07:35:46.130308Z",
     "iopub.status.idle": "2025-09-19T07:35:46.253828Z",
     "shell.execute_reply": "2025-09-19T07:35:46.253092Z",
     "shell.execute_reply.started": "2025-09-19T07:35:46.130574Z"
    },
    "scrolled": true
   },
   "outputs": [],
   "source": [
    "# In your pipeline.ipynb file, after the data_prep step definition\n",
    "\n",
    "from sagemaker.sklearn.estimator import SKLearn\n",
    "from sagemaker.xgboost.estimator import XGBoost\n",
    "from sagemaker.tuner import HyperparameterTuner, IntegerParameter, ContinuousParameter\n",
    "from sagemaker.workflow.steps import TuningStep\n",
    "from sagemaker.inputs import TrainingInput\n",
    "\n",
    "# --- Random Forest HPO ---\n",
    "# Use the SKLearn estimator for scikit-learn models\n",
    "sklearn_estimator_rf = SKLearn(\n",
    "    entry_point=\"scripts/train.py\",\n",
    "    framework_version=\"1.2-1\",\n",
    "    instance_type=\"ml.m5.large\",\n",
    "    instance_count=1,  # <--- ADD THIS LINE\n",
    "    role=role,\n",
    "    hyperparameters={\"model_type\": \"randomforest\"},\n",
    ")\n",
    "\n",
    "tuner_rf = HyperparameterTuner(\n",
    "    estimator=sklearn_estimator_rf,\n",
    "    objective_metric_name=\"Validation F1 Score\",\n",
    "    hyperparameter_ranges={\n",
    "        \"n_estimators\": IntegerParameter(100, 300),\n",
    "        \"max_depth\": IntegerParameter(5, 20),\n",
    "    },\n",
    "    metric_definitions=[\n",
    "        {\"Name\": \"Validation F1 Score\", \"Regex\": \"Validation F1 Score: ([0-9\\\\.]+)\"}\n",
    "    ],\n",
    "    max_jobs=6,\n",
    "    max_parallel_jobs=2,\n",
    "    objective_type=\"Maximize\",\n",
    ")\n",
    "\n",
    "tune_step_rf = TuningStep(\n",
    "    name=\"TuneRandomForest\",\n",
    "    tuner=tuner_rf,\n",
    "    inputs={\n",
    "        \"train\": TrainingInput(\n",
    "            s3_data=data_prep.properties.ProcessingOutputConfig.Outputs[\"train\"].S3Output.S3Uri\n",
    "        ),\n",
    "        \"test\": TrainingInput(\n",
    "            s3_data=data_prep.properties.ProcessingOutputConfig.Outputs[\"test\"].S3Output.S3Uri\n",
    "        ),\n",
    "    },\n",
    "    cache_config=cache_config\n",
    ")\n",
    "\n",
    "### Logistic Regression\n",
    "logistic_estimator = SKLearn(\n",
    "    entry_point=\"scripts/train.py\",\n",
    "    framework_version=\"1.2-1\",\n",
    "    instance_type=\"ml.m5.large\",\n",
    "    instance_count=1,\n",
    "    role=role,\n",
    "    hyperparameters={\"model_type\": \"logistic\"},\n",
    ")\n",
    "\n",
    "tuner_logistic = HyperparameterTuner(\n",
    "    estimator=logistic_estimator,\n",
    "    objective_metric_name=\"Validation F1 Score\",\n",
    "    hyperparameter_ranges={\n",
    "        \"C\": ContinuousParameter(0.001, 10.0),\n",
    "        # penalty can only take [\"l1\", \"l2\"], so not tunable like numeric params\n",
    "    },\n",
    "    metric_definitions=[\n",
    "        {\"Name\": \"Validation F1 Score\", \"Regex\": \"Validation F1 Score: ([0-9\\\\.]+)\"}\n",
    "    ],\n",
    "    max_jobs=4,\n",
    "    max_parallel_jobs=2,\n",
    "    objective_type=\"Maximize\",\n",
    ")\n",
    "\n",
    "tune_step_logistic = TuningStep(\n",
    "    name=\"TuneLogisticRegression\",\n",
    "    tuner=tuner_logistic,\n",
    "    inputs={\n",
    "        \"train\": TrainingInput(\n",
    "            s3_data=data_prep.properties.ProcessingOutputConfig.Outputs[\"train\"].S3Output.S3Uri\n",
    "        ),\n",
    "        \"test\": TrainingInput(\n",
    "            s3_data=data_prep.properties.ProcessingOutputConfig.Outputs[\"test\"].S3Output.S3Uri\n",
    "        ),\n",
    "    },\n",
    "    cache_config=cache_config\n",
    ")\n",
    "\n",
    "\n",
    "# # --- XGBoost HPO ---\n",
    "# # Use the dedicated XGBoost estimator for XGBoost models\n",
    "# xgboost_estimator = SKLearn(\n",
    "#     entry_point=\"scripts/train.py\",\n",
    "#     framework_version=\"1.2-1\", # Use a supported XGBoost version\n",
    "#     instance_type=\"ml.m5.large\",\n",
    "#     instance_count=1,  # <--- ADD THIS LINE\n",
    "#     role=role,\n",
    "#     hyperparameters={\"model_type\": \"xgboost\"},\n",
    "# )\n",
    "\n",
    "# tuner_xgb = HyperparameterTuner(\n",
    "#     estimator=xgboost_estimator,\n",
    "#     objective_metric_name=\"Validation F1 Score\", # <--- Correct built-in metric name\n",
    "#     hyperparameter_ranges={\n",
    "#         \"num_round\": IntegerParameter(100, 400),\n",
    "#         \"max_depth\": IntegerParameter(3, 10),\n",
    "#         \"eta\": ContinuousParameter(0.01, 0.3),\n",
    "#     },\n",
    "#     metric_definitions=[ \n",
    "#         {\"Name\": \"Validation F1 Score\", \"Regex\": \"Validation F1 Score: ([0-9\\\\.]+)\"}\n",
    "#     ],\n",
    "#     # The metric_definitions argument is removed entirely\n",
    "#     max_jobs=2,\n",
    "#     max_parallel_jobs=1,\n",
    "#     objective_type=\"Maximize\",\n",
    "# )\n",
    "\n",
    "# tune_step_xgb = TuningStep(\n",
    "#     name=\"TuneXGBoost\",\n",
    "#     tuner=tuner_xgb,\n",
    "#     inputs={\n",
    "#         \"train\": TrainingInput(\n",
    "#             s3_data=data_prep.properties.ProcessingOutputConfig.Outputs[\"train\"].S3Output.S3Uri\n",
    "#         ),\n",
    "#         \"test\": TrainingInput(\n",
    "#             s3_data=data_prep.properties.ProcessingOutputConfig.Outputs[\"test\"].S3Output.S3Uri\n",
    "#         ),\n",
    "#     },\n",
    "#     cache_config=cache_config\n",
    "# )"
   ]
  },
  {
   "cell_type": "code",
   "execution_count": 59,
   "id": "2b5f25be-6cab-41df-9d25-a619bd15bba9",
   "metadata": {
    "execution": {
     "iopub.execute_input": "2025-09-19T07:35:48.224598Z",
     "iopub.status.busy": "2025-09-19T07:35:48.224316Z",
     "iopub.status.idle": "2025-09-19T07:35:49.992571Z",
     "shell.execute_reply": "2025-09-19T07:35:49.991772Z",
     "shell.execute_reply.started": "2025-09-19T07:35:48.224576Z"
    },
    "scrolled": true
   },
   "outputs": [
    {
     "name": "stderr",
     "output_type": "stream",
     "text": [
      "WARNING:sagemaker.workflow.utilities:Popping out 'ProcessingJobName' from the pipeline definition by default since it will be overridden at pipeline execution time. Please utilize the PipelineDefinitionConfig to persist this field in the pipeline definition if desired.\n",
      "WARNING:sagemaker.estimator:No finished training job found associated with this estimator. Please make sure this estimator is only used for building workflow config\n",
      "WARNING:sagemaker.estimator:No finished training job found associated with this estimator. Please make sure this estimator is only used for building workflow config\n",
      "WARNING:sagemaker.workflow.utilities:Popping out 'HyperParameterTuningJobName' from the pipeline definition by default since it will be overridden at pipeline execution time. Please utilize the PipelineDefinitionConfig to persist this field in the pipeline definition if desired.\n",
      "WARNING:sagemaker.estimator:No finished training job found associated with this estimator. Please make sure this estimator is only used for building workflow config\n",
      "WARNING:sagemaker.estimator:No finished training job found associated with this estimator. Please make sure this estimator is only used for building workflow config\n",
      "WARNING:sagemaker.workflow.utilities:Popping out 'HyperParameterTuningJobName' from the pipeline definition by default since it will be overridden at pipeline execution time. Please utilize the PipelineDefinitionConfig to persist this field in the pipeline definition if desired.\n",
      "WARNING:sagemaker.workflow.utilities:Popping out 'ProcessingJobName' from the pipeline definition by default since it will be overridden at pipeline execution time. Please utilize the PipelineDefinitionConfig to persist this field in the pipeline definition if desired.\n",
      "WARNING:sagemaker.estimator:No finished training job found associated with this estimator. Please make sure this estimator is only used for building workflow config\n",
      "WARNING:sagemaker.estimator:No finished training job found associated with this estimator. Please make sure this estimator is only used for building workflow config\n",
      "WARNING:sagemaker.workflow.utilities:Popping out 'HyperParameterTuningJobName' from the pipeline definition by default since it will be overridden at pipeline execution time. Please utilize the PipelineDefinitionConfig to persist this field in the pipeline definition if desired.\n",
      "WARNING:sagemaker.estimator:No finished training job found associated with this estimator. Please make sure this estimator is only used for building workflow config\n",
      "WARNING:sagemaker.estimator:No finished training job found associated with this estimator. Please make sure this estimator is only used for building workflow config\n",
      "WARNING:sagemaker.workflow.utilities:Popping out 'HyperParameterTuningJobName' from the pipeline definition by default since it will be overridden at pipeline execution time. Please utilize the PipelineDefinitionConfig to persist this field in the pipeline definition if desired.\n"
     ]
    },
    {
     "data": {
      "text/plain": [
       "{'PipelineArn': 'arn:aws:sagemaker:ap-south-1:891377324517:pipeline/ChurnPredictionPipeline',\n",
       " 'PipelineExecutionArn': 'arn:aws:sagemaker:ap-south-1:891377324517:pipeline/ChurnPredictionPipeline/execution/qv0zika1yq9f',\n",
       " 'PipelineExecutionDisplayName': 'execution-1758267349891',\n",
       " 'PipelineExecutionStatus': 'Executing',\n",
       " 'CreationTime': datetime.datetime(2025, 9, 19, 7, 35, 49, 846000, tzinfo=tzlocal()),\n",
       " 'LastModifiedTime': datetime.datetime(2025, 9, 19, 7, 35, 49, 846000, tzinfo=tzlocal()),\n",
       " 'CreatedBy': {'UserProfileArn': 'arn:aws:sagemaker:ap-south-1:891377324517:user-profile/d-51dx373wnss0/default-20250903T125584',\n",
       "  'UserProfileName': 'default-20250903T125584',\n",
       "  'DomainId': 'd-51dx373wnss0',\n",
       "  'IamIdentity': {'Arn': 'arn:aws:sts::891377324517:assumed-role/AmazonSageMaker-ExecutionRole-20250903T125584/SageMaker',\n",
       "   'PrincipalId': 'AROA47CR2SHSWJ6BV5G2F:SageMaker'}},\n",
       " 'LastModifiedBy': {'UserProfileArn': 'arn:aws:sagemaker:ap-south-1:891377324517:user-profile/d-51dx373wnss0/default-20250903T125584',\n",
       "  'UserProfileName': 'default-20250903T125584',\n",
       "  'DomainId': 'd-51dx373wnss0',\n",
       "  'IamIdentity': {'Arn': 'arn:aws:sts::891377324517:assumed-role/AmazonSageMaker-ExecutionRole-20250903T125584/SageMaker',\n",
       "   'PrincipalId': 'AROA47CR2SHSWJ6BV5G2F:SageMaker'}},\n",
       " 'ResponseMetadata': {'RequestId': '5b0d895d-1716-4311-8236-d50571836b3f',\n",
       "  'HTTPStatusCode': 200,\n",
       "  'HTTPHeaders': {'x-amzn-requestid': '5b0d895d-1716-4311-8236-d50571836b3f',\n",
       "   'content-type': 'application/x-amz-json-1.1',\n",
       "   'content-length': '1138',\n",
       "   'date': 'Fri, 19 Sep 2025 07:35:49 GMT'},\n",
       "  'RetryAttempts': 0}}"
      ]
     },
     "execution_count": 59,
     "metadata": {},
     "output_type": "execute_result"
    }
   ],
   "source": [
    "# Submit the pipeline definition to SageMaker\n",
    "pipeline = Pipeline(\n",
    "    name=\"ChurnPredictionPipeline\",\n",
    "    steps=[data_prep, tune_step_rf, tune_step_logistic],\n",
    "    sagemaker_session=sagemaker_session,\n",
    ")\n",
    "\n",
    "pipeline.upsert(role_arn=role)\n",
    "\n",
    "# Start a pipeline execution\n",
    "execution = pipeline.start()\n",
    "execution.describe()"
   ]
  },
  {
   "cell_type": "code",
   "execution_count": 63,
   "id": "87bd6f76-8f4b-4661-ac6b-fa5e0b70a8d7",
   "metadata": {
    "execution": {
     "iopub.execute_input": "2025-09-19T07:45:12.460612Z",
     "iopub.status.busy": "2025-09-19T07:45:12.460179Z",
     "iopub.status.idle": "2025-09-19T07:45:12.618994Z",
     "shell.execute_reply": "2025-09-19T07:45:12.618219Z",
     "shell.execute_reply.started": "2025-09-19T07:45:12.460578Z"
    }
   },
   "outputs": [
    {
     "name": "stdout",
     "output_type": "stream",
     "text": [
      "TuneLogisticRegression → Succeeded\n",
      "TuneRandomForest → Executing\n",
      "ChurnDataPrep → Succeeded\n"
     ]
    }
   ],
   "source": [
    "steps = execution.list_steps()\n",
    "for step in steps:\n",
    "    print(f\"{step['StepName']} → {step['StepStatus']}\")\n",
    "    if 'FailureReason' in step:\n",
    "        print(f\"   Reason: {step ['FailureReason']}\")\n"
   ]
  },
  {
   "cell_type": "code",
   "execution_count": null,
   "id": "eea6eaf7-430b-4b1e-a67f-ae6819d3c257",
   "metadata": {},
   "outputs": [],
   "source": []
  },
  {
   "cell_type": "code",
   "execution_count": null,
   "id": "4d22872c-f3d6-49bb-91a7-b6d96873d7c7",
   "metadata": {},
   "outputs": [],
   "source": []
  }
 ],
 "metadata": {
  "kernelspec": {
   "display_name": "Python 3 (ipykernel)",
   "language": "python",
   "name": "python3"
  },
  "language_info": {
   "codemirror_mode": {
    "name": "ipython",
    "version": 3
   },
   "file_extension": ".py",
   "mimetype": "text/x-python",
   "name": "python",
   "nbconvert_exporter": "python",
   "pygments_lexer": "ipython3",
   "version": "3.12.9"
  }
 },
 "nbformat": 4,
 "nbformat_minor": 5
}
