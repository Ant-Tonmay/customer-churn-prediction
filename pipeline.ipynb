{
 "cells": [
  {
   "cell_type": "code",
   "execution_count": 27,
   "id": "43ca0d36-0ae0-49e0-b84d-a5e54a6e6bc4",
   "metadata": {
    "execution": {
     "iopub.execute_input": "2025-09-18T12:16:21.287315Z",
     "iopub.status.busy": "2025-09-18T12:16:21.287042Z",
     "iopub.status.idle": "2025-09-18T12:16:21.291786Z",
     "shell.execute_reply": "2025-09-18T12:16:21.290780Z",
     "shell.execute_reply.started": "2025-09-18T12:16:21.287294Z"
    }
   },
   "outputs": [],
   "source": [
    "import sagemaker\n",
    "from sagemaker.workflow.pipeline import Pipeline\n",
    "from sagemaker.workflow.steps import ProcessingStep, TrainingStep\n",
    "from sagemaker.processing import FrameworkProcessor, ProcessingInput, ProcessingOutput\n",
    "from sagemaker.sklearn.processing import SKLearnProcessor\n",
    "from sagemaker.sklearn.estimator import SKLearn\n",
    "from sagemaker.workflow.properties import PropertyFile\n",
    "from sagemaker.workflow.steps import CacheConfig"
   ]
  },
  {
   "cell_type": "code",
   "execution_count": 28,
   "id": "9c5dc8c4-b8af-4278-af1f-424a791ba420",
   "metadata": {
    "execution": {
     "iopub.execute_input": "2025-09-18T12:16:24.261311Z",
     "iopub.status.busy": "2025-09-18T12:16:24.261046Z",
     "iopub.status.idle": "2025-09-18T12:16:24.768347Z",
     "shell.execute_reply": "2025-09-18T12:16:24.767274Z",
     "shell.execute_reply.started": "2025-09-18T12:16:24.261290Z"
    }
   },
   "outputs": [],
   "source": [
    "sagemaker_session = sagemaker.Session()\n",
    "role = sagemaker.get_execution_role()\n",
    "bucket = sagemaker_session.default_bucket()\n",
    "region = sagemaker_session.boto_region_name\n",
    "raw_data_s3_uri = \"s3://sagemakerantdata/ChurnPrediction/raw/\""
   ]
  },
  {
   "cell_type": "code",
   "execution_count": 29,
   "id": "7207bdf8-89e1-47b0-af31-4ff0eb68616d",
   "metadata": {
    "execution": {
     "iopub.execute_input": "2025-09-18T12:16:27.003331Z",
     "iopub.status.busy": "2025-09-18T12:16:27.002459Z",
     "iopub.status.idle": "2025-09-18T12:16:27.175572Z",
     "shell.execute_reply": "2025-09-18T12:16:27.174793Z",
     "shell.execute_reply.started": "2025-09-18T12:16:27.003299Z"
    }
   },
   "outputs": [
    {
     "name": "stderr",
     "output_type": "stream",
     "text": [
      "INFO:sagemaker.image_uris:Defaulting to only available Python version: py3\n"
     ]
    }
   ],
   "source": [
    "sklearn_processor = SKLearnProcessor(\n",
    "    framework_version=\"1.2-1\",\n",
    "    role=role,\n",
    "    instance_type=\"ml.t3.medium\",\n",
    "    instance_count=1,\n",
    ")"
   ]
  },
  {
   "cell_type": "code",
   "execution_count": 43,
   "id": "b383ac88-cdaa-4b05-a710-1533788a99fb",
   "metadata": {
    "execution": {
     "iopub.execute_input": "2025-09-18T12:50:11.771226Z",
     "iopub.status.busy": "2025-09-18T12:50:11.770945Z",
     "iopub.status.idle": "2025-09-18T12:50:11.775886Z",
     "shell.execute_reply": "2025-09-18T12:50:11.774761Z",
     "shell.execute_reply.started": "2025-09-18T12:50:11.771206Z"
    }
   },
   "outputs": [],
   "source": [
    "cache_config = CacheConfig(enable_caching=True, expire_after=\"30d\")\n",
    "\n",
    "data_prep = ProcessingStep(\n",
    "    name=\"ChurnDataPrep\",\n",
    "    processor=sklearn_processor,\n",
    "    code=\"scripts/data_ingestion.py\",\n",
    "    inputs=[\n",
    "        ProcessingInput(source=raw_data_s3_uri, destination=\"/opt/ml/processing/input\")\n",
    "    ],\n",
    "    outputs=[\n",
    "        ProcessingOutput(\n",
    "            output_name=\"train\",\n",
    "            source=\"/opt/ml/processing/output/train\",\n",
    "            destination=\"s3://sagemakerantdata/ChurnPrediction/processed/train\"\n",
    "        ),\n",
    "        ProcessingOutput(\n",
    "            output_name=\"test\",\n",
    "            source=\"/opt/ml/processing/output/test\",\n",
    "            destination=\"s3://sagemakerantdata/ChurnPrediction/processed/test\"\n",
    "        ),\n",
    "    ],\n",
    ")"
   ]
  },
  {
   "cell_type": "code",
   "execution_count": 44,
   "id": "f1d91e67-0319-4873-8b93-3b17734de230",
   "metadata": {
    "execution": {
     "iopub.execute_input": "2025-09-18T12:50:14.501472Z",
     "iopub.status.busy": "2025-09-18T12:50:14.501187Z",
     "iopub.status.idle": "2025-09-18T12:50:15.382811Z",
     "shell.execute_reply": "2025-09-18T12:50:15.382086Z",
     "shell.execute_reply.started": "2025-09-18T12:50:14.501449Z"
    }
   },
   "outputs": [
    {
     "name": "stderr",
     "output_type": "stream",
     "text": [
      "WARNING:sagemaker.workflow.utilities:Popping out 'ProcessingJobName' from the pipeline definition by default since it will be overridden at pipeline execution time. Please utilize the PipelineDefinitionConfig to persist this field in the pipeline definition if desired.\n",
      "WARNING:sagemaker.workflow.utilities:Popping out 'ProcessingJobName' from the pipeline definition by default since it will be overridden at pipeline execution time. Please utilize the PipelineDefinitionConfig to persist this field in the pipeline definition if desired.\n"
     ]
    },
    {
     "data": {
      "text/plain": [
       "{'PipelineArn': 'arn:aws:sagemaker:ap-south-1:891377324517:pipeline/ChurnPredictionPipeline',\n",
       " 'PipelineExecutionArn': 'arn:aws:sagemaker:ap-south-1:891377324517:pipeline/ChurnPredictionPipeline/execution/jienh8af2htr',\n",
       " 'PipelineExecutionDisplayName': 'execution-1758199815263',\n",
       " 'PipelineExecutionStatus': 'Executing',\n",
       " 'CreationTime': datetime.datetime(2025, 9, 18, 12, 50, 15, 211000, tzinfo=tzlocal()),\n",
       " 'LastModifiedTime': datetime.datetime(2025, 9, 18, 12, 50, 15, 211000, tzinfo=tzlocal()),\n",
       " 'CreatedBy': {'UserProfileArn': 'arn:aws:sagemaker:ap-south-1:891377324517:user-profile/d-51dx373wnss0/default-20250903T125584',\n",
       "  'UserProfileName': 'default-20250903T125584',\n",
       "  'DomainId': 'd-51dx373wnss0',\n",
       "  'IamIdentity': {'Arn': 'arn:aws:sts::891377324517:assumed-role/AmazonSageMaker-ExecutionRole-20250903T125584/SageMaker',\n",
       "   'PrincipalId': 'AROA47CR2SHSWJ6BV5G2F:SageMaker'}},\n",
       " 'LastModifiedBy': {'UserProfileArn': 'arn:aws:sagemaker:ap-south-1:891377324517:user-profile/d-51dx373wnss0/default-20250903T125584',\n",
       "  'UserProfileName': 'default-20250903T125584',\n",
       "  'DomainId': 'd-51dx373wnss0',\n",
       "  'IamIdentity': {'Arn': 'arn:aws:sts::891377324517:assumed-role/AmazonSageMaker-ExecutionRole-20250903T125584/SageMaker',\n",
       "   'PrincipalId': 'AROA47CR2SHSWJ6BV5G2F:SageMaker'}},\n",
       " 'ResponseMetadata': {'RequestId': 'edce34bd-cc41-4387-a49e-982978b19d0c',\n",
       "  'HTTPStatusCode': 200,\n",
       "  'HTTPHeaders': {'x-amzn-requestid': 'edce34bd-cc41-4387-a49e-982978b19d0c',\n",
       "   'content-type': 'application/x-amz-json-1.1',\n",
       "   'content-length': '1137',\n",
       "   'date': 'Thu, 18 Sep 2025 12:50:15 GMT'},\n",
       "  'RetryAttempts': 0}}"
      ]
     },
     "execution_count": 44,
     "metadata": {},
     "output_type": "execute_result"
    }
   ],
   "source": [
    "pipeline = Pipeline(\n",
    "    name=\"ChurnPredictionPipeline\",\n",
    "    parameters=[], # You can define pipeline-level parameters here\n",
    "    steps=[data_prep],\n",
    "    sagemaker_session=sagemaker_session,\n",
    ")\n",
    "\n",
    "# Submit the pipeline definition to SageMaker\n",
    "pipeline.upsert(role_arn=role)\n",
    "\n",
    "# Start a pipeline execution\n",
    "execution = pipeline.start()\n",
    "execution.describe()"
   ]
  },
  {
   "cell_type": "code",
   "execution_count": 45,
   "id": "87bd6f76-8f4b-4661-ac6b-fa5e0b70a8d7",
   "metadata": {
    "execution": {
     "iopub.execute_input": "2025-09-18T13:01:12.831054Z",
     "iopub.status.busy": "2025-09-18T13:01:12.830778Z",
     "iopub.status.idle": "2025-09-18T13:01:12.944535Z",
     "shell.execute_reply": "2025-09-18T13:01:12.943708Z",
     "shell.execute_reply.started": "2025-09-18T13:01:12.831032Z"
    }
   },
   "outputs": [
    {
     "name": "stdout",
     "output_type": "stream",
     "text": [
      "ChurnDataPrep → Succeeded\n"
     ]
    }
   ],
   "source": [
    "steps = execution.list_steps()\n",
    "for step in steps:\n",
    "    print(f\"{step['StepName']} → {step['StepStatus']}\")\n",
    "    if 'FailureReason' in step:\n",
    "        print(f\"   Reason: {step ['FailureReason']}\")\n"
   ]
  },
  {
   "cell_type": "code",
   "execution_count": null,
   "id": "eea6eaf7-430b-4b1e-a67f-ae6819d3c257",
   "metadata": {},
   "outputs": [],
   "source": []
  }
 ],
 "metadata": {
  "kernelspec": {
   "display_name": "Python 3 (ipykernel)",
   "language": "python",
   "name": "python3"
  },
  "language_info": {
   "codemirror_mode": {
    "name": "ipython",
    "version": 3
   },
   "file_extension": ".py",
   "mimetype": "text/x-python",
   "name": "python",
   "nbconvert_exporter": "python",
   "pygments_lexer": "ipython3",
   "version": "3.12.9"
  }
 },
 "nbformat": 4,
 "nbformat_minor": 5
}
