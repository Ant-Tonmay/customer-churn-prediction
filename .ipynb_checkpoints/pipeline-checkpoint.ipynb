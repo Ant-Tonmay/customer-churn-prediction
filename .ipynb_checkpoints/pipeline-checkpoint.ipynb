{
 "cells": [
  {
   "cell_type": "code",
   "execution_count": 1,
   "id": "43ca0d36-0ae0-49e0-b84d-a5e54a6e6bc4",
   "metadata": {
    "execution": {
     "iopub.execute_input": "2025-09-19T10:23:39.420248Z",
     "iopub.status.busy": "2025-09-19T10:23:39.419992Z",
     "iopub.status.idle": "2025-09-19T10:23:41.852575Z",
     "shell.execute_reply": "2025-09-19T10:23:41.851962Z",
     "shell.execute_reply.started": "2025-09-19T10:23:39.420225Z"
    }
   },
   "outputs": [
    {
     "name": "stdout",
     "output_type": "stream",
     "text": [
      "sagemaker.config INFO - Not applying SDK defaults from location: /etc/xdg/sagemaker/config.yaml\n",
      "sagemaker.config INFO - Not applying SDK defaults from location: /home/sagemaker-user/.config/sagemaker/config.yaml\n"
     ]
    }
   ],
   "source": [
    "import sagemaker\n",
    "from sagemaker.workflow.pipeline import Pipeline\n",
    "from sagemaker.workflow.steps import ProcessingStep, TrainingStep\n",
    "from sagemaker.processing import FrameworkProcessor, ProcessingInput, ProcessingOutput\n",
    "from sagemaker.sklearn.processing import SKLearnProcessor\n",
    "from sagemaker.sklearn.estimator import SKLearn\n",
    "from sagemaker.workflow.properties import PropertyFile\n",
    "from sagemaker.workflow.steps import CacheConfig\n",
    "from sagemaker.tuner import HyperparameterTuner, ContinuousParameter, IntegerParameter\n",
    "from sagemaker.inputs import TrainingInput\n",
    "from sagemaker.inputs import TrainingInput\n",
    "from sagemaker.workflow.steps import TuningStep\n",
    "from sagemaker.xgboost import XGBoost\n",
    "from sagemaker.estimator import InstanceGroup\n",
    "from sagemaker.workflow.functions import Join\n",
    "from sagemaker.workflow.condition_step import ConditionStep\n",
    "from sagemaker.workflow.conditions import ConditionGreaterThan\n",
    "from sagemaker.sklearn.model import SKLearnModel"
   ]
  },
  {
   "cell_type": "code",
   "execution_count": 2,
   "id": "9c5dc8c4-b8af-4278-af1f-424a791ba420",
   "metadata": {
    "execution": {
     "iopub.execute_input": "2025-09-19T10:23:46.556607Z",
     "iopub.status.busy": "2025-09-19T10:23:46.556342Z",
     "iopub.status.idle": "2025-09-19T10:23:47.081672Z",
     "shell.execute_reply": "2025-09-19T10:23:47.081076Z",
     "shell.execute_reply.started": "2025-09-19T10:23:46.556585Z"
    }
   },
   "outputs": [],
   "source": [
    "sagemaker_session = sagemaker.Session()\n",
    "role = sagemaker.get_execution_role()\n",
    "bucket = sagemaker_session.default_bucket()\n",
    "region = sagemaker_session.boto_region_name\n",
    "raw_data_s3_uri = \"s3://sagemakerantdata/smallchurndataset/raw/\""
   ]
  },
  {
   "cell_type": "code",
   "execution_count": 3,
   "id": "7207bdf8-89e1-47b0-af31-4ff0eb68616d",
   "metadata": {
    "execution": {
     "iopub.execute_input": "2025-09-19T10:24:15.435609Z",
     "iopub.status.busy": "2025-09-19T10:24:15.435346Z",
     "iopub.status.idle": "2025-09-19T10:24:15.623809Z",
     "shell.execute_reply": "2025-09-19T10:24:15.623038Z",
     "shell.execute_reply.started": "2025-09-19T10:24:15.435590Z"
    }
   },
   "outputs": [
    {
     "name": "stderr",
     "output_type": "stream",
     "text": [
      "INFO:sagemaker.image_uris:Defaulting to only available Python version: py3\n"
     ]
    }
   ],
   "source": [
    "sklearn_processor = SKLearnProcessor(\n",
    "    framework_version=\"1.2-1\",\n",
    "    role=role,\n",
    "    instance_type=\"ml.t3.medium\",\n",
    "    instance_count=1,\n",
    ")\n"
   ]
  },
  {
   "cell_type": "code",
   "execution_count": null,
   "id": "e14b53a8-22e2-4d79-b3ff-ac87899628ea",
   "metadata": {},
   "outputs": [],
   "source": []
  },
  {
   "cell_type": "code",
   "execution_count": 4,
   "id": "b383ac88-cdaa-4b05-a710-1533788a99fb",
   "metadata": {
    "execution": {
     "iopub.execute_input": "2025-09-19T10:24:52.892632Z",
     "iopub.status.busy": "2025-09-19T10:24:52.892361Z",
     "iopub.status.idle": "2025-09-19T10:24:52.896457Z",
     "shell.execute_reply": "2025-09-19T10:24:52.895980Z",
     "shell.execute_reply.started": "2025-09-19T10:24:52.892611Z"
    }
   },
   "outputs": [],
   "source": [
    "cache_config = CacheConfig(enable_caching=True, expire_after=\"30d\")\n",
    "\n",
    "data_prep = ProcessingStep(\n",
    "    name=\"ChurnDataPrep\",\n",
    "    processor=sklearn_processor,\n",
    "    code=\"scripts/data_ingestion.py\",\n",
    "    inputs=[\n",
    "        ProcessingInput(source=raw_data_s3_uri, destination=\"/opt/ml/processing/input\")\n",
    "    ],\n",
    "    outputs=[\n",
    "        ProcessingOutput(\n",
    "            output_name=\"train\",\n",
    "            source=\"/opt/ml/processing/output/train\",\n",
    "            destination=\"s3://sagemakerantdata/smallchurndataset/processed/train\"\n",
    "        ),\n",
    "        ProcessingOutput(\n",
    "            output_name=\"test\",\n",
    "            source=\"/opt/ml/processing/output/test\",\n",
    "            destination=\"s3://sagemakerantdata/smallchurndataset/processed/test\"\n",
    "        ),\n",
    "    ],\n",
    ")"
   ]
  },
  {
   "cell_type": "code",
   "execution_count": 48,
   "id": "f1d91e67-0319-4873-8b93-3b17734de230",
   "metadata": {
    "execution": {
     "iopub.execute_input": "2025-09-18T20:35:56.336449Z",
     "iopub.status.busy": "2025-09-18T20:35:56.336191Z",
     "iopub.status.idle": "2025-09-18T20:35:56.339487Z",
     "shell.execute_reply": "2025-09-18T20:35:56.338760Z",
     "shell.execute_reply.started": "2025-09-18T20:35:56.336428Z"
    }
   },
   "outputs": [],
   "source": [
    "# pipeline = Pipeline(\n",
    "#     name=\"ChurnPredictionPipeline\",\n",
    "#     parameters=[], # You can define pipeline-level parameters here\n",
    "#     steps=[data_prep],\n",
    "#     sagemaker_session=sagemaker_session,\n",
    "# # )\n"
   ]
  },
  {
   "cell_type": "code",
   "execution_count": 22,
   "id": "a96713fa-6d6c-455d-a8ae-954fd5bb845f",
   "metadata": {
    "execution": {
     "iopub.execute_input": "2025-09-19T11:14:19.706988Z",
     "iopub.status.busy": "2025-09-19T11:14:19.706703Z",
     "iopub.status.idle": "2025-09-19T11:14:20.179289Z",
     "shell.execute_reply": "2025-09-19T11:14:20.178412Z",
     "shell.execute_reply.started": "2025-09-19T11:14:19.706968Z"
    },
    "scrolled": true
   },
   "outputs": [],
   "source": [
    "# In your pipeline.ipynb file, after the data_prep step definition\n",
    "\n",
    "from sagemaker.sklearn.estimator import SKLearn\n",
    "from sagemaker.xgboost.estimator import XGBoost\n",
    "from sagemaker.tuner import HyperparameterTuner, IntegerParameter, ContinuousParameter\n",
    "from sagemaker.workflow.steps import TuningStep\n",
    "from sagemaker.inputs import TrainingInput\n",
    "\n",
    "# --- Random Forest HPO ---\n",
    "# Use the SKLearn estimator for scikit-learn models\n",
    "output_bucket = \"sagemakerantdata\"\n",
    "output_prefix = \"smallchurndataset/artifacts\"\n",
    "output_path = f\"s3://{output_bucket}/{output_prefix}\"\n",
    "\n",
    "sklearn_estimator_rf = SKLearn(\n",
    "    entry_point=\"scripts/train.py\",\n",
    "    framework_version=\"1.2-1\",\n",
    "    instance_type=\"ml.m5.large\",\n",
    "    instance_count=1,  # <--- ADD THIS LINE\n",
    "    role=role,\n",
    "    hyperparameters={\"model_type\": \"randomforest\"},\n",
    "    output_path=output_path\n",
    ")\n",
    "\n",
    "tuner_rf = HyperparameterTuner(\n",
    "    estimator=sklearn_estimator_rf,\n",
    "    objective_metric_name=\"Validation F1 Score\",\n",
    "    hyperparameter_ranges={\n",
    "        \"n_estimators\": IntegerParameter(100, 300),\n",
    "        \"max_depth\": IntegerParameter(5, 20),\n",
    "    },\n",
    "    metric_definitions=[\n",
    "        {\"Name\": \"Validation F1 Score\", \"Regex\": \"Validation F1 Score: ([0-9\\\\.]+)\"}\n",
    "    ],\n",
    "    max_jobs=6,\n",
    "    max_parallel_jobs=2,\n",
    "    objective_type=\"Maximize\",\n",
    ")\n",
    "\n",
    "tune_step_rf = TuningStep(\n",
    "    name=\"TuneRandomForest\",\n",
    "    tuner=tuner_rf,\n",
    "    inputs={\n",
    "        \"train\": TrainingInput(\n",
    "            s3_data=data_prep.properties.ProcessingOutputConfig.Outputs[\"train\"].S3Output.S3Uri\n",
    "        ),\n",
    "        \"test\": TrainingInput(\n",
    "            s3_data=data_prep.properties.ProcessingOutputConfig.Outputs[\"test\"].S3Output.S3Uri\n",
    "        ),\n",
    "    },\n",
    "    cache_config=cache_config\n",
    ")\n",
    "\n",
    "### Logistic Regression\n",
    "logistic_estimator = SKLearn(\n",
    "    entry_point=\"scripts/train.py\",\n",
    "    framework_version=\"1.2-1\",\n",
    "    instance_type=\"ml.m5.large\",\n",
    "    instance_count=1,\n",
    "    role=role,\n",
    "    hyperparameters={\"model_type\": \"logistic\"},\n",
    "    output_path=output_path\n",
    ")\n",
    "\n",
    "tuner_logistic = HyperparameterTuner(\n",
    "    estimator=logistic_estimator,\n",
    "    objective_metric_name=\"Validation F1 Score\",\n",
    "    hyperparameter_ranges={\n",
    "        \"C\": ContinuousParameter(0.001, 10.0),\n",
    "        # penalty can only take [\"l1\", \"l2\"], so not tunable like numeric params\n",
    "    },\n",
    "    metric_definitions=[\n",
    "        {\"Name\": \"Validation F1 Score\", \"Regex\": \"Validation F1 Score: ([0-9\\\\.]+)\"}\n",
    "    ],\n",
    "    max_jobs=4,\n",
    "    max_parallel_jobs=2,\n",
    "    objective_type=\"Maximize\",\n",
    ")\n",
    "\n",
    "tune_step_logistic = TuningStep(\n",
    "    name=\"TuneLogisticRegression\",\n",
    "    tuner=tuner_logistic,\n",
    "    inputs={\n",
    "        \"train\": TrainingInput(\n",
    "            s3_data=data_prep.properties.ProcessingOutputConfig.Outputs[\"train\"].S3Output.S3Uri\n",
    "        ),\n",
    "        \"test\": TrainingInput(\n",
    "            s3_data=data_prep.properties.ProcessingOutputConfig.Outputs[\"test\"].S3Output.S3Uri\n",
    "        ),\n",
    "    },\n",
    "    cache_config=cache_config\n",
    ")\n"
   ]
  },
  {
   "cell_type": "code",
   "execution_count": 23,
   "id": "be8b4d7a-b0b6-470b-8ee1-f9af39fe0da6",
   "metadata": {
    "execution": {
     "iopub.execute_input": "2025-09-19T11:14:33.869689Z",
     "iopub.status.busy": "2025-09-19T11:14:33.869404Z",
     "iopub.status.idle": "2025-09-19T11:14:33.872799Z",
     "shell.execute_reply": "2025-09-19T11:14:33.872112Z",
     "shell.execute_reply.started": "2025-09-19T11:14:33.869667Z"
    }
   },
   "outputs": [],
   "source": [
    "\n",
    "# Best F1 from RandomForest\n",
    "best_rf_f1 = tune_step_rf.properties.BestTrainingJob.FinalHyperParameterTuningJobObjectiveMetric.Value\n",
    "\n",
    "# Best F1 from Logistic Regression\n",
    "best_logistic_f1 = tune_step_logistic.properties.BestTrainingJob.FinalHyperParameterTuningJobObjectiveMetric.Value\n"
   ]
  },
  {
   "cell_type": "code",
   "execution_count": 70,
   "id": "bf03c3ff-86da-41f1-b9ce-522e19ebaea8",
   "metadata": {
    "execution": {
     "iopub.execute_input": "2025-09-19T08:17:17.225899Z",
     "iopub.status.busy": "2025-09-19T08:17:17.225627Z",
     "iopub.status.idle": "2025-09-19T08:17:17.230579Z",
     "shell.execute_reply": "2025-09-19T08:17:17.229755Z",
     "shell.execute_reply.started": "2025-09-19T08:17:17.225878Z"
    }
   },
   "outputs": [],
   "source": []
  },
  {
   "cell_type": "code",
   "execution_count": 30,
   "id": "635a3211-efec-4906-8f2b-a6aee54c3a59",
   "metadata": {
    "execution": {
     "iopub.execute_input": "2025-09-19T11:50:48.173647Z",
     "iopub.status.busy": "2025-09-19T11:50:48.173389Z",
     "iopub.status.idle": "2025-09-19T11:50:48.180392Z",
     "shell.execute_reply": "2025-09-19T11:50:48.179530Z",
     "shell.execute_reply.started": "2025-09-19T11:50:48.173628Z"
    }
   },
   "outputs": [],
   "source": [
    "from sagemaker.workflow.condition_step import ConditionStep\n",
    "from sagemaker.workflow.conditions import ConditionGreaterThan\n",
    "from sagemaker.workflow.model_step import CreateModelStep\n",
    "\n",
    "best_rf_f1 = tune_step_rf.properties.BestTrainingJob.FinalHyperParameterTuningJobObjectiveMetric.Value\n",
    "best_logistic_f1 = tune_step_logistic.properties.BestTrainingJob.FinalHyperParameterTuningJobObjectiveMetric.Value\n",
    "\n",
    "# Define S3 bucket for top model artifacts\n",
    "s3_bucket = \"sagemakerantdata/smallchurndataset/artifacts\"\n",
    "\n",
    "# Create SKLearnModel objects pointing to top models\n",
    "rf_model = SKLearnModel(\n",
    "    model_data=tune_step_rf.get_top_model_s3_uri(s3_bucket=s3_bucket, top_k=1),\n",
    "    role=role,\n",
    "    entry_point=\"scripts/train.py\",\n",
    "    framework_version=\"1.2-1\"\n",
    ")\n",
    "\n",
    "logistic_model = SKLearnModel(\n",
    "    model_data=tune_step_logistic.get_top_model_s3_uri(s3_bucket=s3_bucket, top_k=1),\n",
    "    role=role,\n",
    "    entry_point=\"scripts/train.py\",\n",
    "    framework_version=\"1.2-1\"\n",
    ")\n",
    "\n",
    "# ===============================\n",
    "# Create CreateModelStep for each model\n",
    "# ===============================\n",
    "step_rf_model = CreateModelStep(\n",
    "    name=\"CreateRFModel\",\n",
    "    model=rf_model  # Only the SKLearnModel object\n",
    ")\n",
    "step_logistic_model = CreateModelStep(\n",
    "    name=\"CreateLogisticModel\",\n",
    "    model=logistic_model\n",
    ")\n",
    "# ===============================\n",
    "# ConditionStep to choose best model dynamically\n",
    "# ===============================\n",
    "choose_best_model_step = ConditionStep(\n",
    "    name=\"ChooseBestModel\",\n",
    "    conditions=[ConditionGreaterThan(left=best_rf_f1, right=best_logistic_f1)],\n",
    "    if_steps=[step_rf_model],\n",
    "    else_steps=[step_logistic_model],\n",
    ")\n"
   ]
  },
  {
   "cell_type": "code",
   "execution_count": null,
   "id": "3f916245-562c-4456-a768-8b8be31f3b00",
   "metadata": {},
   "outputs": [],
   "source": []
  },
  {
   "cell_type": "code",
   "execution_count": 31,
   "id": "2b5f25be-6cab-41df-9d25-a619bd15bba9",
   "metadata": {
    "execution": {
     "iopub.execute_input": "2025-09-19T11:50:51.394195Z",
     "iopub.status.busy": "2025-09-19T11:50:51.393928Z",
     "iopub.status.idle": "2025-09-19T11:50:53.669103Z",
     "shell.execute_reply": "2025-09-19T11:50:53.668437Z",
     "shell.execute_reply.started": "2025-09-19T11:50:51.394173Z"
    },
    "scrolled": true
   },
   "outputs": [
    {
     "name": "stderr",
     "output_type": "stream",
     "text": [
      "WARNING:sagemaker.workflow.utilities:Popping out 'ProcessingJobName' from the pipeline definition by default since it will be overridden at pipeline execution time. Please utilize the PipelineDefinitionConfig to persist this field in the pipeline definition if desired.\n",
      "WARNING:sagemaker.estimator:No finished training job found associated with this estimator. Please make sure this estimator is only used for building workflow config\n",
      "WARNING:sagemaker.estimator:No finished training job found associated with this estimator. Please make sure this estimator is only used for building workflow config\n",
      "WARNING:sagemaker.workflow.utilities:Popping out 'HyperParameterTuningJobName' from the pipeline definition by default since it will be overridden at pipeline execution time. Please utilize the PipelineDefinitionConfig to persist this field in the pipeline definition if desired.\n",
      "WARNING:sagemaker.estimator:No finished training job found associated with this estimator. Please make sure this estimator is only used for building workflow config\n",
      "WARNING:sagemaker.estimator:No finished training job found associated with this estimator. Please make sure this estimator is only used for building workflow config\n",
      "WARNING:sagemaker.workflow.utilities:Popping out 'HyperParameterTuningJobName' from the pipeline definition by default since it will be overridden at pipeline execution time. Please utilize the PipelineDefinitionConfig to persist this field in the pipeline definition if desired.\n",
      "INFO:sagemaker.image_uris:Defaulting to only supported image scope: cpu.\n",
      "WARNING:sagemaker.workflow.utilities:Popping out 'ModelName' from the pipeline definition by default since it will be overridden at pipeline execution time. Please utilize the PipelineDefinitionConfig to persist this field in the pipeline definition if desired.\n",
      "INFO:sagemaker.image_uris:Defaulting to only supported image scope: cpu.\n",
      "WARNING:sagemaker.workflow.utilities:Popping out 'ModelName' from the pipeline definition by default since it will be overridden at pipeline execution time. Please utilize the PipelineDefinitionConfig to persist this field in the pipeline definition if desired.\n",
      "WARNING:sagemaker.workflow.utilities:Popping out 'ProcessingJobName' from the pipeline definition by default since it will be overridden at pipeline execution time. Please utilize the PipelineDefinitionConfig to persist this field in the pipeline definition if desired.\n",
      "WARNING:sagemaker.estimator:No finished training job found associated with this estimator. Please make sure this estimator is only used for building workflow config\n",
      "WARNING:sagemaker.estimator:No finished training job found associated with this estimator. Please make sure this estimator is only used for building workflow config\n",
      "WARNING:sagemaker.workflow.utilities:Popping out 'HyperParameterTuningJobName' from the pipeline definition by default since it will be overridden at pipeline execution time. Please utilize the PipelineDefinitionConfig to persist this field in the pipeline definition if desired.\n",
      "WARNING:sagemaker.estimator:No finished training job found associated with this estimator. Please make sure this estimator is only used for building workflow config\n",
      "WARNING:sagemaker.estimator:No finished training job found associated with this estimator. Please make sure this estimator is only used for building workflow config\n",
      "WARNING:sagemaker.workflow.utilities:Popping out 'HyperParameterTuningJobName' from the pipeline definition by default since it will be overridden at pipeline execution time. Please utilize the PipelineDefinitionConfig to persist this field in the pipeline definition if desired.\n",
      "INFO:sagemaker.image_uris:Defaulting to only supported image scope: cpu.\n",
      "WARNING:sagemaker.workflow.utilities:Popping out 'ModelName' from the pipeline definition by default since it will be overridden at pipeline execution time. Please utilize the PipelineDefinitionConfig to persist this field in the pipeline definition if desired.\n",
      "INFO:sagemaker.image_uris:Defaulting to only supported image scope: cpu.\n",
      "WARNING:sagemaker.workflow.utilities:Popping out 'ModelName' from the pipeline definition by default since it will be overridden at pipeline execution time. Please utilize the PipelineDefinitionConfig to persist this field in the pipeline definition if desired.\n"
     ]
    },
    {
     "data": {
      "text/plain": [
       "{'PipelineArn': 'arn:aws:sagemaker:ap-south-1:891377324517:pipeline/ChurnPredictionPipeline',\n",
       " 'PipelineExecutionArn': 'arn:aws:sagemaker:ap-south-1:891377324517:pipeline/ChurnPredictionPipeline/execution/j9eqmm7zg7ry',\n",
       " 'PipelineExecutionDisplayName': 'execution-1758282653554',\n",
       " 'PipelineExecutionStatus': 'Executing',\n",
       " 'CreationTime': datetime.datetime(2025, 9, 19, 11, 50, 53, 501000, tzinfo=tzlocal()),\n",
       " 'LastModifiedTime': datetime.datetime(2025, 9, 19, 11, 50, 53, 501000, tzinfo=tzlocal()),\n",
       " 'CreatedBy': {'UserProfileArn': 'arn:aws:sagemaker:ap-south-1:891377324517:user-profile/d-51dx373wnss0/default-20250903T125584',\n",
       "  'UserProfileName': 'default-20250903T125584',\n",
       "  'DomainId': 'd-51dx373wnss0',\n",
       "  'IamIdentity': {'Arn': 'arn:aws:sts::891377324517:assumed-role/AmazonSageMaker-ExecutionRole-20250903T125584/SageMaker',\n",
       "   'PrincipalId': 'AROA47CR2SHSWJ6BV5G2F:SageMaker'}},\n",
       " 'LastModifiedBy': {'UserProfileArn': 'arn:aws:sagemaker:ap-south-1:891377324517:user-profile/d-51dx373wnss0/default-20250903T125584',\n",
       "  'UserProfileName': 'default-20250903T125584',\n",
       "  'DomainId': 'd-51dx373wnss0',\n",
       "  'IamIdentity': {'Arn': 'arn:aws:sts::891377324517:assumed-role/AmazonSageMaker-ExecutionRole-20250903T125584/SageMaker',\n",
       "   'PrincipalId': 'AROA47CR2SHSWJ6BV5G2F:SageMaker'}},\n",
       " 'ResponseMetadata': {'RequestId': '86f767dd-fa1b-4196-9a38-b991a8f2785b',\n",
       "  'HTTPStatusCode': 200,\n",
       "  'HTTPHeaders': {'x-amzn-requestid': '86f767dd-fa1b-4196-9a38-b991a8f2785b',\n",
       "   'content-type': 'application/x-amz-json-1.1',\n",
       "   'content-length': '1138',\n",
       "   'date': 'Fri, 19 Sep 2025 11:50:53 GMT'},\n",
       "  'RetryAttempts': 0}}"
      ]
     },
     "execution_count": 31,
     "metadata": {},
     "output_type": "execute_result"
    }
   ],
   "source": [
    "# Submit the pipeline definition to SageMaker\n",
    "pipeline = Pipeline(\n",
    "    name=\"ChurnPredictionPipeline\",\n",
    "    steps=[data_prep, tune_step_rf, tune_step_logistic,choose_best_model_step],\n",
    "    sagemaker_session=sagemaker_session,\n",
    ")\n",
    "\n",
    "pipeline.upsert(role_arn=role)\n",
    "\n",
    "# Start a pipeline execution\n",
    "execution = pipeline.start()\n",
    "execution.describe()"
   ]
  },
  {
   "cell_type": "code",
   "execution_count": 41,
   "id": "87bd6f76-8f4b-4661-ac6b-fa5e0b70a8d7",
   "metadata": {
    "execution": {
     "iopub.execute_input": "2025-09-19T12:05:55.385895Z",
     "iopub.status.busy": "2025-09-19T12:05:55.385610Z",
     "iopub.status.idle": "2025-09-19T12:05:55.493477Z",
     "shell.execute_reply": "2025-09-19T12:05:55.492850Z",
     "shell.execute_reply.started": "2025-09-19T12:05:55.385873Z"
    }
   },
   "outputs": [
    {
     "name": "stdout",
     "output_type": "stream",
     "text": [
      "CreateLogisticModel → Failed\n",
      "   Reason: ClientError: Failed to invoke sagemaker:CreateModel. Error Details: Could not find model data at s3://sagemakerantdata/smallchurndataset/artifacts//j9eqmm7zg7ry-TuneLogi-jDG8twbv3y-004-dc3081a8/output/model.tar.gz.\n",
      "ChooseBestModel → Succeeded\n",
      "TuneLogisticRegression → Succeeded\n",
      "TuneRandomForest → Succeeded\n",
      "ChurnDataPrep → Succeeded\n"
     ]
    }
   ],
   "source": [
    "steps = execution.list_steps()\n",
    "for step in steps:\n",
    "    print(f\"{step['StepName']} → {step['StepStatus']}\")\n",
    "    if 'FailureReason' in step:\n",
    "        print(f\"   Reason: {step ['FailureReason']}\")\n"
   ]
  },
  {
   "cell_type": "code",
   "execution_count": null,
   "id": "eea6eaf7-430b-4b1e-a67f-ae6819d3c257",
   "metadata": {},
   "outputs": [],
   "source": [
    "ExecutionRole-20250903T125584"
   ]
  },
  {
   "cell_type": "code",
   "execution_count": null,
   "id": "4d22872c-f3d6-49bb-91a7-b6d96873d7c7",
   "metadata": {},
   "outputs": [],
   "source": []
  }
 ],
 "metadata": {
  "kernelspec": {
   "display_name": "Python 3 (ipykernel)",
   "language": "python",
   "name": "python3"
  },
  "language_info": {
   "codemirror_mode": {
    "name": "ipython",
    "version": 3
   },
   "file_extension": ".py",
   "mimetype": "text/x-python",
   "name": "python",
   "nbconvert_exporter": "python",
   "pygments_lexer": "ipython3",
   "version": "3.12.9"
  }
 },
 "nbformat": 4,
 "nbformat_minor": 5
}
