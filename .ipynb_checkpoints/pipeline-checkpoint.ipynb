{
 "cells": [
  {
   "cell_type": "code",
   "execution_count": null,
   "id": "43ca0d36-0ae0-49e0-b84d-a5e54a6e6bc4",
   "metadata": {
    "execution": {
     "iopub.execute_input": "2025-09-19T05:43:52.401096Z",
     "iopub.status.busy": "2025-09-19T05:43:52.400823Z"
    }
   },
   "outputs": [],
   "source": [
    "import sagemaker\n",
    "from sagemaker.workflow.pipeline import Pipeline\n",
    "from sagemaker.workflow.steps import ProcessingStep, TrainingStep\n",
    "from sagemaker.processing import FrameworkProcessor, ProcessingInput, ProcessingOutput\n",
    "from sagemaker.sklearn.processing import SKLearnProcessor\n",
    "from sagemaker.sklearn.estimator import SKLearn\n",
    "from sagemaker.workflow.properties import PropertyFile\n",
    "from sagemaker.workflow.steps import CacheConfig\n",
    "from sagemaker.tuner import HyperparameterTuner, ContinuousParameter, IntegerParameter\n",
    "from sagemaker.inputs import TrainingInput\n",
    "from sagemaker.inputs import TrainingInput\n",
    "from sagemaker.workflow.steps import TuningStep\n",
    "from sagemaker.xgboost import XGBoost\n",
    "from sagemaker.estimator import InstanceGroup\n"
   ]
  },
  {
   "cell_type": "code",
   "execution_count": null,
   "id": "9c5dc8c4-b8af-4278-af1f-424a791ba420",
   "metadata": {},
   "outputs": [],
   "source": [
    "sagemaker_session = sagemaker.Session()\n",
    "role = sagemaker.get_execution_role()\n",
    "bucket = sagemaker_session.default_bucket()\n",
    "region = sagemaker_session.boto_region_name\n",
    "raw_data_s3_uri = \"s3://sagemakerantdata/smallchurndataset/raw/\""
   ]
  },
  {
   "cell_type": "code",
   "execution_count": 4,
   "id": "7207bdf8-89e1-47b0-af31-4ff0eb68616d",
   "metadata": {},
   "outputs": [
    {
     "name": "stderr",
     "output_type": "stream",
     "text": [
      "INFO:sagemaker.image_uris:Defaulting to only available Python version: py3\n"
     ]
    }
   ],
   "source": [
    "sklearn_processor = SKLearnProcessor(\n",
    "    framework_version=\"1.2-1\",\n",
    "    role=role,\n",
    "    instance_type=\"ml.t3.medium\",\n",
    "    instance_count=1,\n",
    ")"
   ]
  },
  {
   "cell_type": "code",
   "execution_count": null,
   "id": "e14b53a8-22e2-4d79-b3ff-ac87899628ea",
   "metadata": {},
   "outputs": [],
   "source": []
  },
  {
   "cell_type": "code",
   "execution_count": 5,
   "id": "b383ac88-cdaa-4b05-a710-1533788a99fb",
   "metadata": {
    "execution": {
     "iopub.execute_input": "2025-09-19T05:03:22.009405Z",
     "iopub.status.busy": "2025-09-19T05:03:22.009112Z",
     "iopub.status.idle": "2025-09-19T05:03:22.013341Z",
     "shell.execute_reply": "2025-09-19T05:03:22.012576Z",
     "shell.execute_reply.started": "2025-09-19T05:03:22.009380Z"
    }
   },
   "outputs": [],
   "source": [
    "cache_config = CacheConfig(enable_caching=True, expire_after=\"30d\")\n",
    "\n",
    "data_prep = ProcessingStep(\n",
    "    name=\"ChurnDataPrep\",\n",
    "    processor=sklearn_processor,\n",
    "    code=\"scripts/data_ingestion.py\",\n",
    "    inputs=[\n",
    "        ProcessingInput(source=raw_data_s3_uri, destination=\"/opt/ml/processing/input\")\n",
    "    ],\n",
    "    outputs=[\n",
    "        ProcessingOutput(\n",
    "            output_name=\"train\",\n",
    "            source=\"/opt/ml/processing/output/train\",\n",
    "            destination=\"s3://sagemakerantdata/ChurnPrediction/processed/train\"\n",
    "        ),\n",
    "        ProcessingOutput(\n",
    "            output_name=\"test\",\n",
    "            source=\"/opt/ml/processing/output/test\",\n",
    "            destination=\"s3://sagemakerantdata/ChurnPrediction/processed/test\"\n",
    "        ),\n",
    "    ],\n",
    ")"
   ]
  },
  {
   "cell_type": "code",
   "execution_count": 48,
   "id": "f1d91e67-0319-4873-8b93-3b17734de230",
   "metadata": {
    "execution": {
     "iopub.execute_input": "2025-09-18T20:35:56.336449Z",
     "iopub.status.busy": "2025-09-18T20:35:56.336191Z",
     "iopub.status.idle": "2025-09-18T20:35:56.339487Z",
     "shell.execute_reply": "2025-09-18T20:35:56.338760Z",
     "shell.execute_reply.started": "2025-09-18T20:35:56.336428Z"
    }
   },
   "outputs": [],
   "source": [
    "# pipeline = Pipeline(\n",
    "#     name=\"ChurnPredictionPipeline\",\n",
    "#     parameters=[], # You can define pipeline-level parameters here\n",
    "#     steps=[data_prep],\n",
    "#     sagemaker_session=sagemaker_session,\n",
    "# # )\n"
   ]
  },
  {
   "cell_type": "code",
   "execution_count": 11,
   "id": "a96713fa-6d6c-455d-a8ae-954fd5bb845f",
   "metadata": {
    "execution": {
     "iopub.execute_input": "2025-09-19T05:07:17.358414Z",
     "iopub.status.busy": "2025-09-19T05:07:17.358120Z",
     "iopub.status.idle": "2025-09-19T05:07:17.466969Z",
     "shell.execute_reply": "2025-09-19T05:07:17.466327Z",
     "shell.execute_reply.started": "2025-09-19T05:07:17.358389Z"
    },
    "scrolled": true
   },
   "outputs": [
    {
     "name": "stderr",
     "output_type": "stream",
     "text": [
      "INFO:sagemaker.image_uris:Ignoring unnecessary Python version: py3.\n",
      "INFO:sagemaker.image_uris:Ignoring unnecessary instance type: ml.m5.large.\n"
     ]
    }
   ],
   "source": [
    "# In your pipeline.ipynb file, after the data_prep step definition\n",
    "\n",
    "from sagemaker.sklearn.estimator import SKLearn\n",
    "from sagemaker.xgboost.estimator import XGBoost\n",
    "from sagemaker.tuner import HyperparameterTuner, IntegerParameter, ContinuousParameter\n",
    "from sagemaker.workflow.steps import TuningStep\n",
    "from sagemaker.inputs import TrainingInput\n",
    "\n",
    "# --- Random Forest HPO ---\n",
    "# Use the SKLearn estimator for scikit-learn models\n",
    "sklearn_estimator = SKLearn(\n",
    "    entry_point=\"scripts/train.py\",\n",
    "    framework_version=\"1.2-1\",\n",
    "    instance_type=\"ml.m5.large\",\n",
    "    instance_count=1,  # <--- ADD THIS LINE\n",
    "    role=role,\n",
    "    hyperparameters={\"model_type\": \"randomforest\"},\n",
    ")\n",
    "\n",
    "tuner_rf = HyperparameterTuner(\n",
    "    estimator=sklearn_estimator,\n",
    "    objective_metric_name=\"Validation F1 Score\",\n",
    "    hyperparameter_ranges={\n",
    "        \"n_estimators\": IntegerParameter(100, 300),\n",
    "        \"max_depth\": IntegerParameter(5, 20),\n",
    "    },\n",
    "    metric_definitions=[\n",
    "        {\"Name\": \"Validation F1 Score\", \"Regex\": \"Validation F1 Score: ([0-9\\\\.]+)\"}\n",
    "    ],\n",
    "    max_jobs=6,\n",
    "    max_parallel_jobs=2,\n",
    "    objective_type=\"Maximize\",\n",
    ")\n",
    "\n",
    "tune_step_rf = TuningStep(\n",
    "    name=\"TuneRandomForest\",\n",
    "    tuner=tuner_rf,\n",
    "    inputs={\n",
    "        \"train\": TrainingInput(\n",
    "            s3_data=data_prep.properties.ProcessingOutputConfig.Outputs[\"train\"].S3Output.S3Uri\n",
    "        ),\n",
    "        \"test\": TrainingInput(\n",
    "            s3_data=data_prep.properties.ProcessingOutputConfig.Outputs[\"test\"].S3Output.S3Uri\n",
    "        ),\n",
    "    },\n",
    "    cache_config=cache_config\n",
    ")\n",
    "\n",
    "\n",
    "# --- XGBoost HPO ---\n",
    "# Use the dedicated XGBoost estimator for XGBoost models\n",
    "xgboost_estimator = XGBoost(\n",
    "    entry_point=\"scripts/train.py\",\n",
    "    framework_version=\"1.7-1\", # Use a supported XGBoost version\n",
    "    instance_type=\"ml.m5.large\",\n",
    "    instance_count=1,  # <--- ADD THIS LINE\n",
    "    role=role,\n",
    "    hyperparameters={\"model_type\": \"xgboost\"},\n",
    ")\n",
    "\n",
    "tuner_xgb = HyperparameterTuner(\n",
    "    estimator=xgboost_estimator,\n",
    "    objective_metric_name=\"validation:f1\", # <--- Correct built-in metric name\n",
    "    hyperparameter_ranges={\n",
    "        \"num_round\": IntegerParameter(100, 400),\n",
    "        \"max_depth\": IntegerParameter(3, 10),\n",
    "        \"eta\": ContinuousParameter(0.01, 0.3),\n",
    "    },\n",
    "    # The metric_definitions argument is removed entirely\n",
    "    max_jobs=6,\n",
    "    max_parallel_jobs=2,\n",
    "    objective_type=\"Maximize\",\n",
    ")\n",
    "\n",
    "tune_step_xgb = TuningStep(\n",
    "    name=\"TuneXGBoost\",\n",
    "    tuner=tuner_xgb,\n",
    "    inputs={\n",
    "        \"train\": TrainingInput(\n",
    "            s3_data=data_prep.properties.ProcessingOutputConfig.Outputs[\"train\"].S3Output.S3Uri\n",
    "        ),\n",
    "        \"test\": TrainingInput(\n",
    "            s3_data=data_prep.properties.ProcessingOutputConfig.Outputs[\"test\"].S3Output.S3Uri\n",
    "        ),\n",
    "    },\n",
    "    cache_config=cache_config\n",
    ")"
   ]
  },
  {
   "cell_type": "code",
   "execution_count": 8,
   "id": "2b5f25be-6cab-41df-9d25-a619bd15bba9",
   "metadata": {
    "execution": {
     "iopub.execute_input": "2025-09-19T05:04:14.026388Z",
     "iopub.status.busy": "2025-09-19T05:04:14.026130Z",
     "iopub.status.idle": "2025-09-19T05:04:16.111681Z",
     "shell.execute_reply": "2025-09-19T05:04:16.110921Z",
     "shell.execute_reply.started": "2025-09-19T05:04:14.026367Z"
    },
    "scrolled": true
   },
   "outputs": [
    {
     "name": "stderr",
     "output_type": "stream",
     "text": [
      "WARNING:sagemaker.workflow.utilities:Popping out 'ProcessingJobName' from the pipeline definition by default since it will be overridden at pipeline execution time. Please utilize the PipelineDefinitionConfig to persist this field in the pipeline definition if desired.\n",
      "WARNING:sagemaker.estimator:No finished training job found associated with this estimator. Please make sure this estimator is only used for building workflow config\n",
      "WARNING:sagemaker.estimator:No finished training job found associated with this estimator. Please make sure this estimator is only used for building workflow config\n",
      "WARNING:sagemaker.workflow.utilities:Popping out 'HyperParameterTuningJobName' from the pipeline definition by default since it will be overridden at pipeline execution time. Please utilize the PipelineDefinitionConfig to persist this field in the pipeline definition if desired.\n",
      "WARNING:sagemaker.estimator:No finished training job found associated with this estimator. Please make sure this estimator is only used for building workflow config\n",
      "WARNING:sagemaker.estimator:No finished training job found associated with this estimator. Please make sure this estimator is only used for building workflow config\n",
      "WARNING:sagemaker.workflow.utilities:Popping out 'HyperParameterTuningJobName' from the pipeline definition by default since it will be overridden at pipeline execution time. Please utilize the PipelineDefinitionConfig to persist this field in the pipeline definition if desired.\n",
      "WARNING:sagemaker.workflow.utilities:Popping out 'ProcessingJobName' from the pipeline definition by default since it will be overridden at pipeline execution time. Please utilize the PipelineDefinitionConfig to persist this field in the pipeline definition if desired.\n",
      "WARNING:sagemaker.estimator:No finished training job found associated with this estimator. Please make sure this estimator is only used for building workflow config\n",
      "WARNING:sagemaker.estimator:No finished training job found associated with this estimator. Please make sure this estimator is only used for building workflow config\n",
      "WARNING:sagemaker.workflow.utilities:Popping out 'HyperParameterTuningJobName' from the pipeline definition by default since it will be overridden at pipeline execution time. Please utilize the PipelineDefinitionConfig to persist this field in the pipeline definition if desired.\n",
      "WARNING:sagemaker.estimator:No finished training job found associated with this estimator. Please make sure this estimator is only used for building workflow config\n",
      "WARNING:sagemaker.estimator:No finished training job found associated with this estimator. Please make sure this estimator is only used for building workflow config\n",
      "WARNING:sagemaker.workflow.utilities:Popping out 'HyperParameterTuningJobName' from the pipeline definition by default since it will be overridden at pipeline execution time. Please utilize the PipelineDefinitionConfig to persist this field in the pipeline definition if desired.\n"
     ]
    },
    {
     "data": {
      "text/plain": [
       "{'PipelineArn': 'arn:aws:sagemaker:ap-south-1:891377324517:pipeline/ChurnPredictionPipeline',\n",
       " 'PipelineExecutionArn': 'arn:aws:sagemaker:ap-south-1:891377324517:pipeline/ChurnPredictionPipeline/execution/5h3ilht39517',\n",
       " 'PipelineExecutionDisplayName': 'execution-1758258255957',\n",
       " 'PipelineExecutionStatus': 'Executing',\n",
       " 'CreationTime': datetime.datetime(2025, 9, 19, 5, 4, 15, 784000, tzinfo=tzlocal()),\n",
       " 'LastModifiedTime': datetime.datetime(2025, 9, 19, 5, 4, 15, 784000, tzinfo=tzlocal()),\n",
       " 'CreatedBy': {'UserProfileArn': 'arn:aws:sagemaker:ap-south-1:891377324517:user-profile/d-51dx373wnss0/default-20250903T125584',\n",
       "  'UserProfileName': 'default-20250903T125584',\n",
       "  'DomainId': 'd-51dx373wnss0',\n",
       "  'IamIdentity': {'Arn': 'arn:aws:sts::891377324517:assumed-role/AmazonSageMaker-ExecutionRole-20250903T125584/SageMaker',\n",
       "   'PrincipalId': 'AROA47CR2SHSWJ6BV5G2F:SageMaker'}},\n",
       " 'LastModifiedBy': {'UserProfileArn': 'arn:aws:sagemaker:ap-south-1:891377324517:user-profile/d-51dx373wnss0/default-20250903T125584',\n",
       "  'UserProfileName': 'default-20250903T125584',\n",
       "  'DomainId': 'd-51dx373wnss0',\n",
       "  'IamIdentity': {'Arn': 'arn:aws:sts::891377324517:assumed-role/AmazonSageMaker-ExecutionRole-20250903T125584/SageMaker',\n",
       "   'PrincipalId': 'AROA47CR2SHSWJ6BV5G2F:SageMaker'}},\n",
       " 'ResponseMetadata': {'RequestId': '85ebd4be-6f09-403a-aa5b-ba34a872b658',\n",
       "  'HTTPStatusCode': 200,\n",
       "  'HTTPHeaders': {'x-amzn-requestid': '85ebd4be-6f09-403a-aa5b-ba34a872b658',\n",
       "   'content-type': 'application/x-amz-json-1.1',\n",
       "   'content-length': '1138',\n",
       "   'date': 'Fri, 19 Sep 2025 05:04:16 GMT'},\n",
       "  'RetryAttempts': 0}}"
      ]
     },
     "execution_count": 8,
     "metadata": {},
     "output_type": "execute_result"
    }
   ],
   "source": [
    "# Submit the pipeline definition to SageMaker\n",
    "pipeline = Pipeline(\n",
    "    name=\"ChurnPredictionPipeline\",\n",
    "    steps=[data_prep, tune_step_rf, tune_step_xgb],\n",
    "    sagemaker_session=sagemaker_session,\n",
    ")\n",
    "\n",
    "pipeline.upsert(role_arn=role)\n",
    "\n",
    "# Start a pipeline execution\n",
    "execution = pipeline.start()\n",
    "execution.describe()"
   ]
  },
  {
   "cell_type": "code",
   "execution_count": 15,
   "id": "87bd6f76-8f4b-4661-ac6b-fa5e0b70a8d7",
   "metadata": {
    "execution": {
     "iopub.execute_input": "2025-09-19T05:15:09.213935Z",
     "iopub.status.busy": "2025-09-19T05:15:09.213658Z",
     "iopub.status.idle": "2025-09-19T05:15:09.309168Z",
     "shell.execute_reply": "2025-09-19T05:15:09.308421Z",
     "shell.execute_reply.started": "2025-09-19T05:15:09.213912Z"
    }
   },
   "outputs": [
    {
     "name": "stdout",
     "output_type": "stream",
     "text": [
      "TuneXGBoost → Failed\n",
      "   Reason: ClientError: No training job succeeded after 5 attempts. For additional details, please take a look at the training job failures by listing training jobs for the hyperparameter tuning job.\n",
      "TuneRandomForest → Failed\n",
      "   Reason: ClientError: No training job succeeded after 5 attempts. For additional details, please take a look at the training job failures by listing training jobs for the hyperparameter tuning job.\n",
      "ChurnDataPrep → Succeeded\n"
     ]
    }
   ],
   "source": [
    "steps = execution.list_steps()\n",
    "for step in steps:\n",
    "    print(f\"{step['StepName']} → {step['StepStatus']}\")\n",
    "    if 'FailureReason' in step:\n",
    "        print(f\"   Reason: {step ['FailureReason']}\")\n"
   ]
  },
  {
   "cell_type": "code",
   "execution_count": null,
   "id": "eea6eaf7-430b-4b1e-a67f-ae6819d3c257",
   "metadata": {},
   "outputs": [],
   "source": []
  }
 ],
 "metadata": {
  "kernelspec": {
   "display_name": "Python 3 (ipykernel)",
   "language": "python",
   "name": "python3"
  },
  "language_info": {
   "codemirror_mode": {
    "name": "ipython",
    "version": 3
   },
   "file_extension": ".py",
   "mimetype": "text/x-python",
   "name": "python",
   "nbconvert_exporter": "python",
   "pygments_lexer": "ipython3",
   "version": "3.12.9"
  }
 },
 "nbformat": 4,
 "nbformat_minor": 5
}
